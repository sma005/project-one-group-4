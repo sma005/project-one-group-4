{
 "cells": [
  {
   "cell_type": "code",
   "execution_count": 16,
   "id": "b96ccc4d",
   "metadata": {},
   "outputs": [],
   "source": [
    "# Dependencies and Setup\n",
    "import matplotlib.pyplot as plt\n",
    "import plotly.express as px\n",
    "import pandas as pd\n",
    "import numpy as np\n",
    "import requests\n",
    "import time\n",
    "import json\n",
    "import string\n",
    "from datetime import date \n",
    "from scipy.stats import linregress\n",
    "\n",
    "import warnings\n",
    "warnings.simplefilter(action='ignore', category=FutureWarning)\n",
    "#Notes: https://data.cdc.gov/Nutrition-Physical-Activity-and-Obesity/Nutrition-Physical-Activity-and-Obesity-Behavioral/hn4x-zwk7\n",
    "\n"
   ]
  },
  {
   "cell_type": "code",
   "execution_count": 20,
   "id": "28e03b52",
   "metadata": {},
   "outputs": [],
   "source": [
    "#Import the API Key\n",
    "data_df = pd.read_csv(r\"Resources\\Nutrition__Physical_Activity__and_Obesity_-_Behavioral_Risk_Factor_Surveillance_System_20231101.csv\")\n",
    "#Add calculated number of obese people\n",
    "data_df['calculated_num_obese'] = round(data_df['Sample_Size'] * data_df['Data_Value'] * .01)"
   ]
  },
  {
   "cell_type": "code",
   "execution_count": 21,
   "id": "6c9238e1",
   "metadata": {},
   "outputs": [
    {
     "data": {
      "text/plain": [
       "array(['Race/Ethnicity', 'Education', 'Income', 'Age (years)', 'Gender',\n",
       "       'Total', nan], dtype=object)"
      ]
     },
     "execution_count": 21,
     "metadata": {},
     "output_type": "execute_result"
    }
   ],
   "source": [
    "list_of_categories = data_df['StratificationCategory1'].unique()\n",
    "list_of_categories"
   ]
  },
  {
   "cell_type": "code",
   "execution_count": 12,
   "id": "1b80dc54",
   "metadata": {},
   "outputs": [
    {
     "name": "stdout",
     "output_type": "stream",
     "text": [
      "<class 'pandas.core.frame.DataFrame'>\n",
      "RangeIndex: 88629 entries, 0 to 88628\n",
      "Data columns (total 10 columns):\n",
      " #   Column                   Non-Null Count  Dtype  \n",
      "---  ------                   --------------  -----  \n",
      " 0   YearEnd                  88629 non-null  int64  \n",
      " 1   LocationAbbr             88629 non-null  object \n",
      " 2   Question                 88629 non-null  object \n",
      " 3   Data_Value               79851 non-null  float64\n",
      " 4   Sample_Size              79851 non-null  float64\n",
      " 5   Race/Ethnicity           25320 non-null  object \n",
      " 6   Education                12660 non-null  object \n",
      " 7   Gender                   6330 non-null   object \n",
      " 8   StratificationCategory1  88620 non-null  object \n",
      " 9   Stratification1          88620 non-null  object \n",
      "dtypes: float64(2), int64(1), object(7)\n",
      "memory usage: 6.8+ MB\n"
     ]
    }
   ],
   "source": [
    "# Convert data into a Pandas DataFrame\n",
    "data_df = data_df[['YearEnd','LocationAbbr','Question','Data_Value','Sample_Size','Race/Ethnicity','Education','Gender','StratificationCategory1','Stratification1']]\n",
    "\n",
    "data_df.info()"
   ]
  },
  {
   "cell_type": "code",
   "execution_count": 15,
   "id": "0723ce8b",
   "metadata": {},
   "outputs": [
    {
     "name": "stdout",
     "output_type": "stream",
     "text": [
      "['Percent of adults aged 18 years and older who have an overweight classification', 'Percent of adults aged 18 years and older who have obesity', 'Percent of adults who achieve at least 150 minutes a week of moderate-intensity aerobic physical activity or 75 minutes a week of vigorous-intensity aerobic activity (or an equivalent combination)', 'Percent of adults who achieve at least 150 minutes a week of moderate-intensity aerobic physical activity or 75 minutes a week of vigorous-intensity aerobic physical activity and engage in muscle-strengthening activities on 2 or more days a week', 'Percent of adults who achieve at least 300 minutes a week of moderate-intensity aerobic physical activity or 150 minutes a week of vigorous-intensity aerobic activity (or an equivalent combination)', 'Percent of adults who engage in muscle-strengthening activities on 2 or more days a week', 'Percent of adults who engage in no leisure-time physical activity', 'Percent of adults who report consuming fruit less than one time daily', 'Percent of adults who report consuming vegetables less than one time daily']\n"
     ]
    }
   ],
   "source": [
    "#These are the questions this dataset answers\n",
    "list_of_questions = data_df['Question'].unique()\n",
    "print(sorted(list_of_questions))"
   ]
  },
  {
   "cell_type": "code",
   "execution_count": 16,
   "id": "6ea9bef5",
   "metadata": {},
   "outputs": [
    {
     "data": {
      "text/html": [
       "<div>\n",
       "<style scoped>\n",
       "    .dataframe tbody tr th:only-of-type {\n",
       "        vertical-align: middle;\n",
       "    }\n",
       "\n",
       "    .dataframe tbody tr th {\n",
       "        vertical-align: top;\n",
       "    }\n",
       "\n",
       "    .dataframe thead th {\n",
       "        text-align: right;\n",
       "    }\n",
       "</style>\n",
       "<table border=\"1\" class=\"dataframe\">\n",
       "  <thead>\n",
       "    <tr style=\"text-align: right;\">\n",
       "      <th></th>\n",
       "      <th>YearEnd</th>\n",
       "      <th>LocationAbbr</th>\n",
       "      <th>Question</th>\n",
       "      <th>Data_Value</th>\n",
       "      <th>Sample_Size</th>\n",
       "      <th>Race/Ethnicity</th>\n",
       "      <th>Education</th>\n",
       "      <th>Gender</th>\n",
       "      <th>StratificationCategory1</th>\n",
       "      <th>Stratification1</th>\n",
       "      <th>calculated_num_obese</th>\n",
       "    </tr>\n",
       "  </thead>\n",
       "  <tbody>\n",
       "    <tr>\n",
       "      <th>3</th>\n",
       "      <td>2013</td>\n",
       "      <td>US</td>\n",
       "      <td>Percent of adults aged 18 years and older who ...</td>\n",
       "      <td>32.7</td>\n",
       "      <td>60069.0</td>\n",
       "      <td>NaN</td>\n",
       "      <td>NaN</td>\n",
       "      <td>NaN</td>\n",
       "      <td>Income</td>\n",
       "      <td>Data not reported</td>\n",
       "      <td>19643.0</td>\n",
       "    </tr>\n",
       "    <tr>\n",
       "      <th>6</th>\n",
       "      <td>2012</td>\n",
       "      <td>WY</td>\n",
       "      <td>Percent of adults aged 18 years and older who ...</td>\n",
       "      <td>48.5</td>\n",
       "      <td>69.0</td>\n",
       "      <td>American Indian/Alaska Native</td>\n",
       "      <td>NaN</td>\n",
       "      <td>NaN</td>\n",
       "      <td>Race/Ethnicity</td>\n",
       "      <td>American Indian/Alaska Native</td>\n",
       "      <td>33.0</td>\n",
       "    </tr>\n",
       "    <tr>\n",
       "      <th>11</th>\n",
       "      <td>2015</td>\n",
       "      <td>RI</td>\n",
       "      <td>Percent of adults aged 18 years and older who ...</td>\n",
       "      <td>40.2</td>\n",
       "      <td>354.0</td>\n",
       "      <td>Hispanic</td>\n",
       "      <td>NaN</td>\n",
       "      <td>NaN</td>\n",
       "      <td>Race/Ethnicity</td>\n",
       "      <td>Hispanic</td>\n",
       "      <td>142.0</td>\n",
       "    </tr>\n",
       "    <tr>\n",
       "      <th>16</th>\n",
       "      <td>2015</td>\n",
       "      <td>GU</td>\n",
       "      <td>Percent of adults aged 18 years and older who ...</td>\n",
       "      <td>NaN</td>\n",
       "      <td>NaN</td>\n",
       "      <td>Other</td>\n",
       "      <td>NaN</td>\n",
       "      <td>NaN</td>\n",
       "      <td>Race/Ethnicity</td>\n",
       "      <td>Other</td>\n",
       "      <td>NaN</td>\n",
       "    </tr>\n",
       "    <tr>\n",
       "      <th>21</th>\n",
       "      <td>2012</td>\n",
       "      <td>US</td>\n",
       "      <td>Percent of adults aged 18 years and older who ...</td>\n",
       "      <td>35.1</td>\n",
       "      <td>120032.0</td>\n",
       "      <td>NaN</td>\n",
       "      <td>Some college or technical school</td>\n",
       "      <td>NaN</td>\n",
       "      <td>Education</td>\n",
       "      <td>Some college or technical school</td>\n",
       "      <td>42131.0</td>\n",
       "    </tr>\n",
       "  </tbody>\n",
       "</table>\n",
       "</div>"
      ],
      "text/plain": [
       "    YearEnd LocationAbbr                                           Question  \\\n",
       "3      2013           US  Percent of adults aged 18 years and older who ...   \n",
       "6      2012           WY  Percent of adults aged 18 years and older who ...   \n",
       "11     2015           RI  Percent of adults aged 18 years and older who ...   \n",
       "16     2015           GU  Percent of adults aged 18 years and older who ...   \n",
       "21     2012           US  Percent of adults aged 18 years and older who ...   \n",
       "\n",
       "    Data_Value  Sample_Size                 Race/Ethnicity  \\\n",
       "3         32.7      60069.0                            NaN   \n",
       "6         48.5         69.0  American Indian/Alaska Native   \n",
       "11        40.2        354.0                       Hispanic   \n",
       "16         NaN          NaN                          Other   \n",
       "21        35.1     120032.0                            NaN   \n",
       "\n",
       "                           Education Gender StratificationCategory1  \\\n",
       "3                                NaN    NaN                  Income   \n",
       "6                                NaN    NaN          Race/Ethnicity   \n",
       "11                               NaN    NaN          Race/Ethnicity   \n",
       "16                               NaN    NaN          Race/Ethnicity   \n",
       "21  Some college or technical school    NaN               Education   \n",
       "\n",
       "                     Stratification1  calculated_num_obese  \n",
       "3                  Data not reported               19643.0  \n",
       "6      American Indian/Alaska Native                  33.0  \n",
       "11                          Hispanic                 142.0  \n",
       "16                             Other                   NaN  \n",
       "21  Some college or technical school               42131.0  "
      ]
     },
     "execution_count": 16,
     "metadata": {},
     "output_type": "execute_result"
    }
   ],
   "source": [
    "overweight_df = data_df[data_df['Question'] == 'Percent of adults aged 18 years and older who have an overweight classification']"
   ]
  },
  {
   "cell_type": "code",
   "execution_count": 33,
   "id": "e6458eb1",
   "metadata": {},
   "outputs": [],
   "source": [
    "obese_df = data_df[data_df['Question'] == 'Percent of adults aged 18 years and older who have obesity']"
   ]
  },
  {
   "cell_type": "code",
   "execution_count": 25,
   "id": "315edb4d",
   "metadata": {},
   "outputs": [
    {
     "data": {
      "text/html": [
       "<div>\n",
       "<style scoped>\n",
       "    .dataframe tbody tr th:only-of-type {\n",
       "        vertical-align: middle;\n",
       "    }\n",
       "\n",
       "    .dataframe tbody tr th {\n",
       "        vertical-align: top;\n",
       "    }\n",
       "\n",
       "    .dataframe thead th {\n",
       "        text-align: right;\n",
       "    }\n",
       "</style>\n",
       "<table border=\"1\" class=\"dataframe\">\n",
       "  <thead>\n",
       "    <tr style=\"text-align: right;\">\n",
       "      <th></th>\n",
       "      <th>YearEnd</th>\n",
       "      <th>LocationAbbr</th>\n",
       "      <th>Question</th>\n",
       "      <th>Data_Value</th>\n",
       "      <th>Sample_Size</th>\n",
       "      <th>StratificationCategory1</th>\n",
       "      <th>Stratification1</th>\n",
       "    </tr>\n",
       "  </thead>\n",
       "  <tbody>\n",
       "    <tr>\n",
       "      <th>83687</th>\n",
       "      <td>2021</td>\n",
       "      <td>US</td>\n",
       "      <td>Percent of adults aged 18 years and older who ...</td>\n",
       "      <td>20.7</td>\n",
       "      <td>22944.0</td>\n",
       "      <td>Age (years)</td>\n",
       "      <td>18 - 24</td>\n",
       "    </tr>\n",
       "    <tr>\n",
       "      <th>83935</th>\n",
       "      <td>2021</td>\n",
       "      <td>US</td>\n",
       "      <td>Percent of adults aged 18 years and older who ...</td>\n",
       "      <td>32.0</td>\n",
       "      <td>40994.0</td>\n",
       "      <td>Age (years)</td>\n",
       "      <td>25 - 34</td>\n",
       "    </tr>\n",
       "    <tr>\n",
       "      <th>81888</th>\n",
       "      <td>2021</td>\n",
       "      <td>US</td>\n",
       "      <td>Percent of adults aged 18 years and older who ...</td>\n",
       "      <td>36.8</td>\n",
       "      <td>51179.0</td>\n",
       "      <td>Age (years)</td>\n",
       "      <td>35 - 44</td>\n",
       "    </tr>\n",
       "    <tr>\n",
       "      <th>88500</th>\n",
       "      <td>2021</td>\n",
       "      <td>US</td>\n",
       "      <td>Percent of adults aged 18 years and older who ...</td>\n",
       "      <td>39.3</td>\n",
       "      <td>57677.0</td>\n",
       "      <td>Age (years)</td>\n",
       "      <td>45 - 54</td>\n",
       "    </tr>\n",
       "    <tr>\n",
       "      <th>86979</th>\n",
       "      <td>2021</td>\n",
       "      <td>US</td>\n",
       "      <td>Percent of adults aged 18 years and older who ...</td>\n",
       "      <td>38.1</td>\n",
       "      <td>73358.0</td>\n",
       "      <td>Age (years)</td>\n",
       "      <td>55 - 64</td>\n",
       "    </tr>\n",
       "    <tr>\n",
       "      <th>86562</th>\n",
       "      <td>2021</td>\n",
       "      <td>US</td>\n",
       "      <td>Percent of adults aged 18 years and older who ...</td>\n",
       "      <td>29.5</td>\n",
       "      <td>139052.0</td>\n",
       "      <td>Age (years)</td>\n",
       "      <td>65 or older</td>\n",
       "    </tr>\n",
       "  </tbody>\n",
       "</table>\n",
       "</div>"
      ],
      "text/plain": [
       "       YearEnd LocationAbbr  \\\n",
       "83687     2021           US   \n",
       "83935     2021           US   \n",
       "81888     2021           US   \n",
       "88500     2021           US   \n",
       "86979     2021           US   \n",
       "86562     2021           US   \n",
       "\n",
       "                                                Question  Data_Value  \\\n",
       "83687  Percent of adults aged 18 years and older who ...        20.7   \n",
       "83935  Percent of adults aged 18 years and older who ...        32.0   \n",
       "81888  Percent of adults aged 18 years and older who ...        36.8   \n",
       "88500  Percent of adults aged 18 years and older who ...        39.3   \n",
       "86979  Percent of adults aged 18 years and older who ...        38.1   \n",
       "86562  Percent of adults aged 18 years and older who ...        29.5   \n",
       "\n",
       "       Sample_Size StratificationCategory1 Stratification1  \n",
       "83687      22944.0             Age (years)         18 - 24  \n",
       "83935      40994.0             Age (years)         25 - 34  \n",
       "81888      51179.0             Age (years)         35 - 44  \n",
       "88500      57677.0             Age (years)         45 - 54  \n",
       "86979      73358.0             Age (years)         55 - 64  \n",
       "86562     139052.0             Age (years)     65 or older  "
      ]
     },
     "execution_count": 25,
     "metadata": {},
     "output_type": "execute_result"
    }
   ],
   "source": [
    "age_data_df = data_df.loc[:,['YearEnd','LocationAbbr','Question','Data_Value','Sample_Size','StratificationCategory1','Stratification1']]\n",
    "\n",
    "age_data_df = age_data_df[age_data_df['YearEnd']==2021]\n",
    "age_data_df = age_data_df[age_data_df['LocationAbbr']=='US']\n",
    "age_data_df = age_data_df[age_data_df['StratificationCategory1']=='Age (years)']\n",
    "age_data_df = age_data_df[age_data_df['Question']=='Percent of adults aged 18 years and older who have obesity']\n",
    "age_data_df = age_data_df.sort_values(by='Stratification1', ascending=True)\n",
    "\n",
    "age_data_df"
   ]
  },
  {
   "cell_type": "code",
   "execution_count": 29,
   "id": "c8357874",
   "metadata": {
    "scrolled": true
   },
   "outputs": [
    {
     "data": {
      "text/plain": [
       "Text(0, 0.5, 'Percent of Obese')"
      ]
     },
     "execution_count": 29,
     "metadata": {},
     "output_type": "execute_result"
    },
    {
     "data": {
      "image/png": "[encoded data removed]",
      "text/plain": [
       "<Figure size 640x480 with 1 Axes>"
      ]
     },
     "metadata": {},
     "output_type": "display_data"
    }
   ],
   "source": [
    "age_data_df.plot.bar(x='Stratification1', y='Data_Value')\n",
    "\n",
    "plt.xticks(rotation=30, horizontalalignment=\"center\")\n",
    "plt.title(\"Percent of Obese in US by Age Groups\")\n",
    "plt.xlabel(\"Age Groups\")\n",
    "plt.ylabel(\"Percent of Obese\")\n"
   ]
  },
  {
   "cell_type": "code",
   "execution_count": 30,
   "id": "1dea269d",
   "metadata": {
    "scrolled": false
   },
   "outputs": [
    {
     "data": {
      "text/html": [
       "<div>\n",
       "<style scoped>\n",
       "    .dataframe tbody tr th:only-of-type {\n",
       "        vertical-align: middle;\n",
       "    }\n",
       "\n",
       "    .dataframe tbody tr th {\n",
       "        vertical-align: top;\n",
       "    }\n",
       "\n",
       "    .dataframe thead th {\n",
       "        text-align: right;\n",
       "    }\n",
       "</style>\n",
       "<table border=\"1\" class=\"dataframe\">\n",
       "  <thead>\n",
       "    <tr style=\"text-align: right;\">\n",
       "      <th></th>\n",
       "      <th>YearEnd</th>\n",
       "      <th>LocationAbbr</th>\n",
       "      <th>Question</th>\n",
       "      <th>Data_Value</th>\n",
       "      <th>Sample_Size</th>\n",
       "      <th>StratificationCategory1</th>\n",
       "      <th>Stratification1</th>\n",
       "    </tr>\n",
       "  </thead>\n",
       "  <tbody>\n",
       "    <tr>\n",
       "      <th>81199</th>\n",
       "      <td>2021</td>\n",
       "      <td>US</td>\n",
       "      <td>Percent of adults who engage in no leisure-tim...</td>\n",
       "      <td>31.7</td>\n",
       "      <td>43004.0</td>\n",
       "      <td>Income</td>\n",
       "      <td>$25,000 - $34,999</td>\n",
       "    </tr>\n",
       "    <tr>\n",
       "      <th>81986</th>\n",
       "      <td>2021</td>\n",
       "      <td>US</td>\n",
       "      <td>Percent of adults who engage in no leisure-tim...</td>\n",
       "      <td>17.6</td>\n",
       "      <td>47396.0</td>\n",
       "      <td>Income</td>\n",
       "      <td>$75,000 or greater</td>\n",
       "    </tr>\n",
       "    <tr>\n",
       "      <th>82958</th>\n",
       "      <td>2021</td>\n",
       "      <td>US</td>\n",
       "      <td>Percent of adults who engage in no leisure-tim...</td>\n",
       "      <td>27.0</td>\n",
       "      <td>47501.0</td>\n",
       "      <td>Income</td>\n",
       "      <td>$35,000 - $49,999</td>\n",
       "    </tr>\n",
       "    <tr>\n",
       "      <th>84046</th>\n",
       "      <td>2021</td>\n",
       "      <td>US</td>\n",
       "      <td>Percent of adults who engage in no leisure-tim...</td>\n",
       "      <td>20.3</td>\n",
       "      <td>58762.0</td>\n",
       "      <td>Income</td>\n",
       "      <td>$50,000 - $74,999</td>\n",
       "    </tr>\n",
       "    <tr>\n",
       "      <th>85199</th>\n",
       "      <td>2021</td>\n",
       "      <td>US</td>\n",
       "      <td>Percent of adults who engage in no leisure-tim...</td>\n",
       "      <td>39.9</td>\n",
       "      <td>21003.0</td>\n",
       "      <td>Income</td>\n",
       "      <td>Less than $15,000</td>\n",
       "    </tr>\n",
       "    <tr>\n",
       "      <th>87551</th>\n",
       "      <td>2021</td>\n",
       "      <td>US</td>\n",
       "      <td>Percent of adults who engage in no leisure-tim...</td>\n",
       "      <td>36.2</td>\n",
       "      <td>34769.0</td>\n",
       "      <td>Income</td>\n",
       "      <td>$15,000 - $24,999</td>\n",
       "    </tr>\n",
       "    <tr>\n",
       "      <th>88628</th>\n",
       "      <td>2021</td>\n",
       "      <td>US</td>\n",
       "      <td>Percent of adults who engage in no leisure-tim...</td>\n",
       "      <td>19.0</td>\n",
       "      <td>178279.0</td>\n",
       "      <td>Income</td>\n",
       "      <td>Data not reported</td>\n",
       "    </tr>\n",
       "  </tbody>\n",
       "</table>\n",
       "</div>"
      ],
      "text/plain": [
       "       YearEnd LocationAbbr  \\\n",
       "81199     2021           US   \n",
       "81986     2021           US   \n",
       "82958     2021           US   \n",
       "84046     2021           US   \n",
       "85199     2021           US   \n",
       "87551     2021           US   \n",
       "88628     2021           US   \n",
       "\n",
       "                                                Question  Data_Value  \\\n",
       "81199  Percent of adults who engage in no leisure-tim...        31.7   \n",
       "81986  Percent of adults who engage in no leisure-tim...        17.6   \n",
       "82958  Percent of adults who engage in no leisure-tim...        27.0   \n",
       "84046  Percent of adults who engage in no leisure-tim...        20.3   \n",
       "85199  Percent of adults who engage in no leisure-tim...        39.9   \n",
       "87551  Percent of adults who engage in no leisure-tim...        36.2   \n",
       "88628  Percent of adults who engage in no leisure-tim...        19.0   \n",
       "\n",
       "       Sample_Size StratificationCategory1     Stratification1  \n",
       "81199      43004.0                  Income   $25,000 - $34,999  \n",
       "81986      47396.0                  Income  $75,000 or greater  \n",
       "82958      47501.0                  Income   $35,000 - $49,999  \n",
       "84046      58762.0                  Income   $50,000 - $74,999  \n",
       "85199      21003.0                  Income   Less than $15,000  \n",
       "87551      34769.0                  Income   $15,000 - $24,999  \n",
       "88628     178279.0                  Income   Data not reported  "
      ]
     },
     "execution_count": 30,
     "metadata": {},
     "output_type": "execute_result"
    }
   ],
   "source": [
    "leisure_data_df = data_df.loc[:,['YearEnd','LocationAbbr','Question','Data_Value','Sample_Size','StratificationCategory1','Stratification1']]\n",
    "\n",
    "leisure_data_df = leisure_data_df[leisure_data_df['YearEnd']==2021]\n",
    "leisure_data_df = leisure_data_df[leisure_data_df['LocationAbbr']=='US']\n",
    "#gender_data_df = gender_data_df[gender_data_df['StratificationCategory1']=='Gender']\n",
    "leisure_data_df = leisure_data_df[leisure_data_df['StratificationCategory1']=='Income']\n",
    "leisure_data_df = leisure_data_df[leisure_data_df['Question']== 'Percent of adults who engage in no leisure-time physical activity']\n",
    "leisure_data_df = leisure_data_df.dropna()\n",
    "leisure_data_df"
   ]
  },
  {
   "cell_type": "code",
   "execution_count": 31,
   "id": "dfe7c206",
   "metadata": {
    "scrolled": true
   },
   "outputs": [
    {
     "data": {
      "text/html": [
       "<div>\n",
       "<style scoped>\n",
       "    .dataframe tbody tr th:only-of-type {\n",
       "        vertical-align: middle;\n",
       "    }\n",
       "\n",
       "    .dataframe tbody tr th {\n",
       "        vertical-align: top;\n",
       "    }\n",
       "\n",
       "    .dataframe thead th {\n",
       "        text-align: right;\n",
       "    }\n",
       "</style>\n",
       "<table border=\"1\" class=\"dataframe\">\n",
       "  <thead>\n",
       "    <tr style=\"text-align: right;\">\n",
       "      <th></th>\n",
       "      <th>YearEnd</th>\n",
       "      <th>LocationAbbr</th>\n",
       "      <th>Question</th>\n",
       "      <th>Data_Value</th>\n",
       "      <th>Sample_Size</th>\n",
       "      <th>StratificationCategory1</th>\n",
       "      <th>Stratification1</th>\n",
       "    </tr>\n",
       "  </thead>\n",
       "  <tbody>\n",
       "    <tr>\n",
       "      <th>86562</th>\n",
       "      <td>2021</td>\n",
       "      <td>US</td>\n",
       "      <td>Percent of adults aged 18 years and older who ...</td>\n",
       "      <td>29.5</td>\n",
       "      <td>139052.0</td>\n",
       "      <td>Age (years)</td>\n",
       "      <td>65 or older</td>\n",
       "    </tr>\n",
       "    <tr>\n",
       "      <th>86979</th>\n",
       "      <td>2021</td>\n",
       "      <td>US</td>\n",
       "      <td>Percent of adults aged 18 years and older who ...</td>\n",
       "      <td>38.1</td>\n",
       "      <td>73358.0</td>\n",
       "      <td>Age (years)</td>\n",
       "      <td>55 - 64</td>\n",
       "    </tr>\n",
       "    <tr>\n",
       "      <th>88500</th>\n",
       "      <td>2021</td>\n",
       "      <td>US</td>\n",
       "      <td>Percent of adults aged 18 years and older who ...</td>\n",
       "      <td>39.3</td>\n",
       "      <td>57677.0</td>\n",
       "      <td>Age (years)</td>\n",
       "      <td>45 - 54</td>\n",
       "    </tr>\n",
       "    <tr>\n",
       "      <th>81888</th>\n",
       "      <td>2021</td>\n",
       "      <td>US</td>\n",
       "      <td>Percent of adults aged 18 years and older who ...</td>\n",
       "      <td>36.8</td>\n",
       "      <td>51179.0</td>\n",
       "      <td>Age (years)</td>\n",
       "      <td>35 - 44</td>\n",
       "    </tr>\n",
       "    <tr>\n",
       "      <th>83935</th>\n",
       "      <td>2021</td>\n",
       "      <td>US</td>\n",
       "      <td>Percent of adults aged 18 years and older who ...</td>\n",
       "      <td>32.0</td>\n",
       "      <td>40994.0</td>\n",
       "      <td>Age (years)</td>\n",
       "      <td>25 - 34</td>\n",
       "    </tr>\n",
       "    <tr>\n",
       "      <th>83687</th>\n",
       "      <td>2021</td>\n",
       "      <td>US</td>\n",
       "      <td>Percent of adults aged 18 years and older who ...</td>\n",
       "      <td>20.7</td>\n",
       "      <td>22944.0</td>\n",
       "      <td>Age (years)</td>\n",
       "      <td>18 - 24</td>\n",
       "    </tr>\n",
       "  </tbody>\n",
       "</table>\n",
       "</div>"
      ],
      "text/plain": [
       "       YearEnd LocationAbbr  \\\n",
       "86562     2021           US   \n",
       "86979     2021           US   \n",
       "88500     2021           US   \n",
       "81888     2021           US   \n",
       "83935     2021           US   \n",
       "83687     2021           US   \n",
       "\n",
       "                                                Question  Data_Value  \\\n",
       "86562  Percent of adults aged 18 years and older who ...        29.5   \n",
       "86979  Percent of adults aged 18 years and older who ...        38.1   \n",
       "88500  Percent of adults aged 18 years and older who ...        39.3   \n",
       "81888  Percent of adults aged 18 years and older who ...        36.8   \n",
       "83935  Percent of adults aged 18 years and older who ...        32.0   \n",
       "83687  Percent of adults aged 18 years and older who ...        20.7   \n",
       "\n",
       "       Sample_Size StratificationCategory1 Stratification1  \n",
       "86562     139052.0             Age (years)     65 or older  \n",
       "86979      73358.0             Age (years)         55 - 64  \n",
       "88500      57677.0             Age (years)         45 - 54  \n",
       "81888      51179.0             Age (years)         35 - 44  \n",
       "83935      40994.0             Age (years)         25 - 34  \n",
       "83687      22944.0             Age (years)         18 - 24  "
      ]
     },
     "execution_count": 31,
     "metadata": {},
     "output_type": "execute_result"
    },
    {
     "data": {
      "image/png": "[encoded data removed]",
      "text/plain": [
       "<Figure size 640x480 with 1 Axes>"
      ]
     },
     "metadata": {},
     "output_type": "display_data"
    }
   ],
   "source": [
    "#Reorder the x-ticks\n",
    "leisure_data_df.plot.bar(x='Stratification1', y='Data_Value')\n",
    "\n",
    "plt.xticks(rotation=30, horizontalalignment=\"center\")\n",
    "plt.title(\"US National percent of adults who engage in no leisure-time physical activity\")\n",
    "plt.xlabel(\"Age Groups\")\n",
    "plt.ylabel(\"Percent of Obese\")\n",
    "\n",
    "age_data_df.sort_values(by='Stratification1', ascending=False)"
   ]
  },
  {
   "cell_type": "code",
   "execution_count": 70,
   "id": "af0a9d0c",
   "metadata": {},
   "outputs": [
    {
     "data": {
      "text/html": [
       "<div>\n",
       "<style scoped>\n",
       "    .dataframe tbody tr th:only-of-type {\n",
       "        vertical-align: middle;\n",
       "    }\n",
       "\n",
       "    .dataframe tbody tr th {\n",
       "        vertical-align: top;\n",
       "    }\n",
       "\n",
       "    .dataframe thead th {\n",
       "        text-align: right;\n",
       "    }\n",
       "</style>\n",
       "<table border=\"1\" class=\"dataframe\">\n",
       "  <thead>\n",
       "    <tr style=\"text-align: right;\">\n",
       "      <th></th>\n",
       "      <th>YearEnd</th>\n",
       "      <th>LocationAbbr</th>\n",
       "      <th>Question</th>\n",
       "      <th>Data_Value</th>\n",
       "      <th>Sample_Size</th>\n",
       "      <th>StratificationCategory1</th>\n",
       "      <th>Stratification1</th>\n",
       "    </tr>\n",
       "  </thead>\n",
       "  <tbody>\n",
       "    <tr>\n",
       "      <th>429</th>\n",
       "      <td>2020</td>\n",
       "      <td>AK</td>\n",
       "      <td>Percent of adults aged 18 years and older who ...</td>\n",
       "      <td>31.9</td>\n",
       "      <td>3335.0</td>\n",
       "      <td>Total</td>\n",
       "      <td>Total</td>\n",
       "    </tr>\n",
       "    <tr>\n",
       "      <th>5621</th>\n",
       "      <td>2020</td>\n",
       "      <td>MD</td>\n",
       "      <td>Percent of adults aged 18 years and older who ...</td>\n",
       "      <td>31.0</td>\n",
       "      <td>12562.0</td>\n",
       "      <td>Total</td>\n",
       "      <td>Total</td>\n",
       "    </tr>\n",
       "    <tr>\n",
       "      <th>5710</th>\n",
       "      <td>2020</td>\n",
       "      <td>VA</td>\n",
       "      <td>Percent of adults aged 18 years and older who ...</td>\n",
       "      <td>32.2</td>\n",
       "      <td>8568.0</td>\n",
       "      <td>Total</td>\n",
       "      <td>Total</td>\n",
       "    </tr>\n",
       "    <tr>\n",
       "      <th>5981</th>\n",
       "      <td>2020</td>\n",
       "      <td>OK</td>\n",
       "      <td>Percent of adults aged 18 years and older who ...</td>\n",
       "      <td>36.4</td>\n",
       "      <td>4530.0</td>\n",
       "      <td>Total</td>\n",
       "      <td>Total</td>\n",
       "    </tr>\n",
       "    <tr>\n",
       "      <th>6125</th>\n",
       "      <td>2020</td>\n",
       "      <td>FL</td>\n",
       "      <td>Percent of adults aged 18 years and older who ...</td>\n",
       "      <td>28.4</td>\n",
       "      <td>10591.0</td>\n",
       "      <td>Total</td>\n",
       "      <td>Total</td>\n",
       "    </tr>\n",
       "  </tbody>\n",
       "</table>\n",
       "</div>"
      ],
      "text/plain": [
       "      YearEnd LocationAbbr                                           Question  \\\n",
       "429      2020           AK  Percent of adults aged 18 years and older who ...   \n",
       "5621     2020           MD  Percent of adults aged 18 years and older who ...   \n",
       "5710     2020           VA  Percent of adults aged 18 years and older who ...   \n",
       "5981     2020           OK  Percent of adults aged 18 years and older who ...   \n",
       "6125     2020           FL  Percent of adults aged 18 years and older who ...   \n",
       "\n",
       "      Data_Value  Sample_Size StratificationCategory1 Stratification1  \n",
       "429         31.9       3335.0                   Total           Total  \n",
       "5621        31.0      12562.0                   Total           Total  \n",
       "5710        32.2       8568.0                   Total           Total  \n",
       "5981        36.4       4530.0                   Total           Total  \n",
       "6125        28.4      10591.0                   Total           Total  "
      ]
     },
     "execution_count": 70,
     "metadata": {},
     "output_type": "execute_result"
    }
   ],
   "source": [
    "obese_df = data_df.loc[:,['YearEnd','LocationAbbr','Question','Data_Value','Sample_Size','StratificationCategory1','Stratification1']]\n",
    "obese_df = obese_df[obese_df['YearEnd'] == 2020]\n",
    "obese_df = obese_df[obese_df['LocationAbbr'] != 'US']\n",
    "obese_df = obese_df[obese_df['LocationAbbr'] != 'VI']\n",
    "obese_df = obese_df[obese_df['LocationAbbr'] != 'GU']\n",
    "obese_df = obese_df[obese_df['LocationAbbr'] != 'DC']\n",
    "obese_df = obese_df[obese_df['LocationAbbr'] != 'PR']\n",
    "obese_df = obese_df[obese_df['StratificationCategory1'] == 'Total']\n",
    "obese_df = obese_df[obese_df['Question'] == 'Percent of adults aged 18 years and older who have obesity']\n",
    "\n",
    "obese_df.head()"
   ]
  },
  {
   "cell_type": "code",
   "execution_count": 87,
   "id": "580d5c73",
   "metadata": {
    "scrolled": false
   },
   "outputs": [
    {
     "data": {
      "application/vnd.plotly.v1+json": {
       "config": {
        "plotlyServerURL": "https://plot.ly"
       },
       "data": [
        {
         "coloraxis": "coloraxis",
         "geo": "geo",
         "hovertemplate": "<b>%{hovertext}</b><br><br>LocationAbbr=%{location}<br>Data_Value=%{z}<extra></extra>",
         "hovertext": [
          "AK",
          "MD",
          "VA",
          "OK",
          "FL",
          "OR",
          "WA",
          "NY",
          "MN",
          "SD",
          "KS",
          "VT",
          "AZ",
          "KY",
          "PA",
          "IL",
          "WY",
          "MT",
          "OH",
          "TN",
          "DE",
          "ID",
          "MI",
          "NM",
          "NE",
          "LA",
          "ND",
          "NH",
          "MO",
          "RI",
          "WI",
          "IN",
          "AR",
          "MA",
          "NJ",
          "CT",
          "NV",
          "HI",
          "TX",
          "ME",
          "SC",
          "IA",
          "CA",
          "NC",
          "WV",
          "GA",
          "CO",
          "MS",
          "AL",
          "UT"
         ],
         "locationmode": "USA-states",
         "locations": [
          "AK",
          "MD",
          "VA",
          "OK",
          "FL",
          "OR",
          "WA",
          "NY",
          "MN",
          "SD",
          "KS",
          "VT",
          "AZ",
          "KY",
          "PA",
          "IL",
          "WY",
          "MT",
          "OH",
          "TN",
          "DE",
          "ID",
          "MI",
          "NM",
          "NE",
          "LA",
          "ND",
          "NH",
          "MO",
          "RI",
          "WI",
          "IN",
          "AR",
          "MA",
          "NJ",
          "CT",
          "NV",
          "HI",
          "TX",
          "ME",
          "SC",
          "IA",
          "CA",
          "NC",
          "WV",
          "GA",
          "CO",
          "MS",
          "AL",
          "UT"
         ],
         "name": "",
         "type": "choropleth",
         "z": [
          31.9,
          31,
          32.2,
          36.4,
          28.4,
          28.1,
          28,
          26.3,
          30.7,
          33.2,
          35.3,
          26.3,
          30.9,
          36.6,
          31.5,
          32.4,
          30.7,
          28.5,
          35.5,
          35.6,
          36.5,
          31.1,
          35.2,
          30.9,
          34,
          38.1,
          33.1,
          29.9,
          34,
          30.1,
          32.3,
          36.8,
          36.4,
          24.4,
          27.7,
          29.2,
          28.7,
          24.5,
          35.8,
          31,
          36.2,
          36.5,
          30.3,
          33.6,
          39.1,
          34.3,
          24.2,
          39.7,
          39,
          28.6
         ]
        },
        {
         "locationmode": "USA-states",
         "mode": "text",
         "text": [
          "AK",
          "MD",
          "VA",
          "OK",
          "FL",
          "OR",
          "WA",
          "NY",
          "MN",
          "SD",
          "KS",
          "VT",
          "AZ",
          "KY",
          "PA",
          "IL",
          "WY",
          "MT",
          "OH",
          "TN",
          "DE",
          "ID",
          "MI",
          "NM",
          "NE",
          "LA",
          "ND",
          "NH",
          "MO",
          "RI",
          "WI",
          "IN",
          "AR",
          "MA",
          "NJ",
          "CT",
          "NV",
          "HI",
          "TX",
          "ME",
          "SC",
          "IA",
          "CA",
          "NC",
          "WV",
          "GA",
          "CO",
          "MS",
          "AL",
          "UT"
         ],
         "type": "scattergeo"
        }
       ],
       "layout": {
        "coloraxis": {
         "colorbar": {
          "title": {
           "text": "Data_Value"
          }
         },
         "colorscale": [
          [
           0,
           "rgb(94,79,162)"
          ],
          [
           0.1,
           "rgb(50,136,189)"
          ],
          [
           0.2,
           "rgb(102,194,165)"
          ],
          [
           0.3,
           "rgb(171,221,164)"
          ],
          [
           0.4,
           "rgb(230,245,152)"
          ],
          [
           0.5,
           "rgb(255,255,191)"
          ],
          [
           0.6,
           "rgb(254,224,139)"
          ],
          [
           0.7,
           "rgb(253,174,97)"
          ],
          [
           0.8,
           "rgb(244,109,67)"
          ],
          [
           0.9,
           "rgb(213,62,79)"
          ],
          [
           1,
           "rgb(158,1,66)"
          ]
         ]
        },
        "geo": {
         "center": {},
         "domain": {
          "x": [
           0,
           1
          ],
          "y": [
           0,
           1
          ]
         },
         "scope": "usa"
        },
        "legend": {
         "tracegroupgap": 0
        },
        "margin": {
         "t": 60
        },
        "template": {
         "data": {
          "bar": [
           {
            "error_x": {
             "color": "#2a3f5f"
            },
            "error_y": {
             "color": "#2a3f5f"
            },
            "marker": {
             "line": {
              "color": "#E5ECF6",
              "width": 0.5
             },
             "pattern": {
              "fillmode": "overlay",
              "size": 10,
              "solidity": 0.2
             }
            },
            "type": "bar"
           }
          ],
          "barpolar": [
           {
            "marker": {
             "line": {
              "color": "#E5ECF6",
              "width": 0.5
             },
             "pattern": {
              "fillmode": "overlay",
              "size": 10,
              "solidity": 0.2
             }
            },
            "type": "barpolar"
           }
          ],
          "carpet": [
           {
            "aaxis": {
             "endlinecolor": "#2a3f5f",
             "gridcolor": "white",
             "linecolor": "white",
             "minorgridcolor": "white",
             "startlinecolor": "#2a3f5f"
            },
            "baxis": {
             "endlinecolor": "#2a3f5f",
             "gridcolor": "white",
             "linecolor": "white",
             "minorgridcolor": "white",
             "startlinecolor": "#2a3f5f"
            },
            "type": "carpet"
           }
          ],
          "choropleth": [
           {
            "colorbar": {
             "outlinewidth": 0,
             "ticks": ""
            },
            "type": "choropleth"
           }
          ],
          "contour": [
           {
            "colorbar": {
             "outlinewidth": 0,
             "ticks": ""
            },
            "colorscale": [
             [
              0,
              "#0d0887"
             ],
             [
              0.1111111111111111,
              "#46039f"
             ],
             [
              0.2222222222222222,
              "#7201a8"
             ],
             [
              0.3333333333333333,
              "#9c179e"
             ],
             [
              0.4444444444444444,
              "#bd3786"
             ],
             [
              0.5555555555555556,
              "#d8576b"
             ],
             [
              0.6666666666666666,
              "#ed7953"
             ],
             [
              0.7777777777777778,
              "#fb9f3a"
             ],
             [
              0.8888888888888888,
              "#fdca26"
             ],
             [
              1,
              "#f0f921"
             ]
            ],
            "type": "contour"
           }
          ],
          "contourcarpet": [
           {
            "colorbar": {
             "outlinewidth": 0,
             "ticks": ""
            },
            "type": "contourcarpet"
           }
          ],
          "heatmap": [
           {
            "colorbar": {
             "outlinewidth": 0,
             "ticks": ""
            },
            "colorscale": [
             [
              0,
              "#0d0887"
             ],
             [
              0.1111111111111111,
              "#46039f"
             ],
             [
              0.2222222222222222,
              "#7201a8"
             ],
             [
              0.3333333333333333,
              "#9c179e"
             ],
             [
              0.4444444444444444,
              "#bd3786"
             ],
             [
              0.5555555555555556,
              "#d8576b"
             ],
             [
              0.6666666666666666,
              "#ed7953"
             ],
             [
              0.7777777777777778,
              "#fb9f3a"
             ],
             [
              0.8888888888888888,
              "#fdca26"
             ],
             [
              1,
              "#f0f921"
             ]
            ],
            "type": "heatmap"
           }
          ],
          "heatmapgl": [
           {
            "colorbar": {
             "outlinewidth": 0,
             "ticks": ""
            },
            "colorscale": [
             [
              0,
              "#0d0887"
             ],
             [
              0.1111111111111111,
              "#46039f"
             ],
             [
              0.2222222222222222,
              "#7201a8"
             ],
             [
              0.3333333333333333,
              "#9c179e"
             ],
             [
              0.4444444444444444,
              "#bd3786"
             ],
             [
              0.5555555555555556,
              "#d8576b"
             ],
             [
              0.6666666666666666,
              "#ed7953"
             ],
             [
              0.7777777777777778,
              "#fb9f3a"
             ],
             [
              0.8888888888888888,
              "#fdca26"
             ],
             [
              1,
              "#f0f921"
             ]
            ],
            "type": "heatmapgl"
           }
          ],
          "histogram": [
           {
            "marker": {
             "pattern": {
              "fillmode": "overlay",
              "size": 10,
              "solidity": 0.2
             }
            },
            "type": "histogram"
           }
          ],
          "histogram2d": [
           {
            "colorbar": {
             "outlinewidth": 0,
             "ticks": ""
            },
            "colorscale": [
             [
              0,
              "#0d0887"
             ],
             [
              0.1111111111111111,
              "#46039f"
             ],
             [
              0.2222222222222222,
              "#7201a8"
             ],
             [
              0.3333333333333333,
              "#9c179e"
             ],
             [
              0.4444444444444444,
              "#bd3786"
             ],
             [
              0.5555555555555556,
              "#d8576b"
             ],
             [
              0.6666666666666666,
              "#ed7953"
             ],
             [
              0.7777777777777778,
              "#fb9f3a"
             ],
             [
              0.8888888888888888,
              "#fdca26"
             ],
             [
              1,
              "#f0f921"
             ]
            ],
            "type": "histogram2d"
           }
          ],
          "histogram2dcontour": [
           {
            "colorbar": {
             "outlinewidth": 0,
             "ticks": ""
            },
            "colorscale": [
             [
              0,
              "#0d0887"
             ],
             [
              0.1111111111111111,
              "#46039f"
             ],
             [
              0.2222222222222222,
              "#7201a8"
             ],
             [
              0.3333333333333333,
              "#9c179e"
             ],
             [
              0.4444444444444444,
              "#bd3786"
             ],
             [
              0.5555555555555556,
              "#d8576b"
             ],
             [
              0.6666666666666666,
              "#ed7953"
             ],
             [
              0.7777777777777778,
              "#fb9f3a"
             ],
             [
              0.8888888888888888,
              "#fdca26"
             ],
             [
              1,
              "#f0f921"
             ]
            ],
            "type": "histogram2dcontour"
           }
          ],
          "mesh3d": [
           {
            "colorbar": {
             "outlinewidth": 0,
             "ticks": ""
            },
            "type": "mesh3d"
           }
          ],
          "parcoords": [
           {
            "line": {
             "colorbar": {
              "outlinewidth": 0,
              "ticks": ""
             }
            },
            "type": "parcoords"
           }
          ],
          "pie": [
           {
            "automargin": true,
            "type": "pie"
           }
          ],
          "scatter": [
           {
            "fillpattern": {
             "fillmode": "overlay",
             "size": 10,
             "solidity": 0.2
            },
            "type": "scatter"
           }
          ],
          "scatter3d": [
           {
            "line": {
             "colorbar": {
              "outlinewidth": 0,
              "ticks": ""
             }
            },
            "marker": {
             "colorbar": {
              "outlinewidth": 0,
              "ticks": ""
             }
            },
            "type": "scatter3d"
           }
          ],
          "scattercarpet": [
           {
            "marker": {
             "colorbar": {
              "outlinewidth": 0,
              "ticks": ""
             }
            },
            "type": "scattercarpet"
           }
          ],
          "scattergeo": [
           {
            "marker": {
             "colorbar": {
              "outlinewidth": 0,
              "ticks": ""
             }
            },
            "type": "scattergeo"
           }
          ],
          "scattergl": [
           {
            "marker": {
             "colorbar": {
              "outlinewidth": 0,
              "ticks": ""
             }
            },
            "type": "scattergl"
           }
          ],
          "scattermapbox": [
           {
            "marker": {
             "colorbar": {
              "outlinewidth": 0,
              "ticks": ""
             }
            },
            "type": "scattermapbox"
           }
          ],
          "scatterpolar": [
           {
            "marker": {
             "colorbar": {
              "outlinewidth": 0,
              "ticks": ""
             }
            },
            "type": "scatterpolar"
           }
          ],
          "scatterpolargl": [
           {
            "marker": {
             "colorbar": {
              "outlinewidth": 0,
              "ticks": ""
             }
            },
            "type": "scatterpolargl"
           }
          ],
          "scatterternary": [
           {
            "marker": {
             "colorbar": {
              "outlinewidth": 0,
              "ticks": ""
             }
            },
            "type": "scatterternary"
           }
          ],
          "surface": [
           {
            "colorbar": {
             "outlinewidth": 0,
             "ticks": ""
            },
            "colorscale": [
             [
              0,
              "#0d0887"
             ],
             [
              0.1111111111111111,
              "#46039f"
             ],
             [
              0.2222222222222222,
              "#7201a8"
             ],
             [
              0.3333333333333333,
              "#9c179e"
             ],
             [
              0.4444444444444444,
              "#bd3786"
             ],
             [
              0.5555555555555556,
              "#d8576b"
             ],
             [
              0.6666666666666666,
              "#ed7953"
             ],
             [
              0.7777777777777778,
              "#fb9f3a"
             ],
             [
              0.8888888888888888,
              "#fdca26"
             ],
             [
              1,
              "#f0f921"
             ]
            ],
            "type": "surface"
           }
          ],
          "table": [
           {
            "cells": {
             "fill": {
              "color": "#EBF0F8"
             },
             "line": {
              "color": "white"
             }
            },
            "header": {
             "fill": {
              "color": "#C8D4E3"
             },
             "line": {
              "color": "white"
             }
            },
            "type": "table"
           }
          ]
         },
         "layout": {
          "annotationdefaults": {
           "arrowcolor": "#2a3f5f",
           "arrowhead": 0,
           "arrowwidth": 1
          },
          "autotypenumbers": "strict",
          "coloraxis": {
           "colorbar": {
            "outlinewidth": 0,
            "ticks": ""
           }
          },
          "colorscale": {
           "diverging": [
            [
             0,
             "#8e0152"
            ],
            [
             0.1,
             "#c51b7d"
            ],
            [
             0.2,
             "#de77ae"
            ],
            [
             0.3,
             "#f1b6da"
            ],
            [
             0.4,
             "#fde0ef"
            ],
            [
             0.5,
             "#f7f7f7"
            ],
            [
             0.6,
             "#e6f5d0"
            ],
            [
             0.7,
             "#b8e186"
            ],
            [
             0.8,
             "#7fbc41"
            ],
            [
             0.9,
             "#4d9221"
            ],
            [
             1,
             "#276419"
            ]
           ],
           "sequential": [
            [
             0,
             "#0d0887"
            ],
            [
             0.1111111111111111,
             "#46039f"
            ],
            [
             0.2222222222222222,
             "#7201a8"
            ],
            [
             0.3333333333333333,
             "#9c179e"
            ],
            [
             0.4444444444444444,
             "#bd3786"
            ],
            [
             0.5555555555555556,
             "#d8576b"
            ],
            [
             0.6666666666666666,
             "#ed7953"
            ],
            [
             0.7777777777777778,
             "#fb9f3a"
            ],
            [
             0.8888888888888888,
             "#fdca26"
            ],
            [
             1,
             "#f0f921"
            ]
           ],
           "sequentialminus": [
            [
             0,
             "#0d0887"
            ],
            [
             0.1111111111111111,
             "#46039f"
            ],
            [
             0.2222222222222222,
             "#7201a8"
            ],
            [
             0.3333333333333333,
             "#9c179e"
            ],
            [
             0.4444444444444444,
             "#bd3786"
            ],
            [
             0.5555555555555556,
             "#d8576b"
            ],
            [
             0.6666666666666666,
             "#ed7953"
            ],
            [
             0.7777777777777778,
             "#fb9f3a"
            ],
            [
             0.8888888888888888,
             "#fdca26"
            ],
            [
             1,
             "#f0f921"
            ]
           ]
          },
          "colorway": [
           "#636efa",
           "#EF553B",
           "#00cc96",
           "#ab63fa",
           "#FFA15A",
           "#19d3f3",
           "#FF6692",
           "#B6E880",
           "#FF97FF",
           "#FECB52"
          ],
          "font": {
           "color": "#2a3f5f"
          },
          "geo": {
           "bgcolor": "white",
           "lakecolor": "white",
           "landcolor": "#E5ECF6",
           "showlakes": true,
           "showland": true,
           "subunitcolor": "white"
          },
          "hoverlabel": {
           "align": "left"
          },
          "hovermode": "closest",
          "mapbox": {
           "style": "light"
          },
          "paper_bgcolor": "white",
          "plot_bgcolor": "#E5ECF6",
          "polar": {
           "angularaxis": {
            "gridcolor": "white",
            "linecolor": "white",
            "ticks": ""
           },
           "bgcolor": "#E5ECF6",
           "radialaxis": {
            "gridcolor": "white",
            "linecolor": "white",
            "ticks": ""
           }
          },
          "scene": {
           "xaxis": {
            "backgroundcolor": "#E5ECF6",
            "gridcolor": "white",
            "gridwidth": 2,
            "linecolor": "white",
            "showbackground": true,
            "ticks": "",
            "zerolinecolor": "white"
           },
           "yaxis": {
            "backgroundcolor": "#E5ECF6",
            "gridcolor": "white",
            "gridwidth": 2,
            "linecolor": "white",
            "showbackground": true,
            "ticks": "",
            "zerolinecolor": "white"
           },
           "zaxis": {
            "backgroundcolor": "#E5ECF6",
            "gridcolor": "white",
            "gridwidth": 2,
            "linecolor": "white",
            "showbackground": true,
            "ticks": "",
            "zerolinecolor": "white"
           }
          },
          "shapedefaults": {
           "line": {
            "color": "#2a3f5f"
           }
          },
          "ternary": {
           "aaxis": {
            "gridcolor": "white",
            "linecolor": "white",
            "ticks": ""
           },
           "baxis": {
            "gridcolor": "white",
            "linecolor": "white",
            "ticks": ""
           },
           "bgcolor": "#E5ECF6",
           "caxis": {
            "gridcolor": "white",
            "linecolor": "white",
            "ticks": ""
           }
          },
          "title": {
           "x": 0.05
          },
          "xaxis": {
           "automargin": true,
           "gridcolor": "white",
           "linecolor": "white",
           "ticks": "",
           "title": {
            "standoff": 15
           },
           "zerolinecolor": "white",
           "zerolinewidth": 2
          },
          "yaxis": {
           "automargin": true,
           "gridcolor": "white",
           "linecolor": "white",
           "ticks": "",
           "title": {
            "standoff": 15
           },
           "zerolinecolor": "white",
           "zerolinewidth": 2
          }
         }
        },
        "title": {
         "text": "2020 Obesity Rates %",
         "x": 0.5,
         "xanchor": "center",
         "yanchor": "top"
        }
       }
      },
      "text/html": [
       "<div>                            <div id=\"aba0d382-df0d-4761-8b5c-75088c6ba2e4\" class=\"plotly-graph-div\" style=\"height:525px; width:100%;\"></div>            <script type=\"text/javascript\">                require([\"plotly\"], function(Plotly) {                    window.PLOTLYENV=window.PLOTLYENV || {};                                    if (document.getElementById(\"aba0d382-df0d-4761-8b5c-75088c6ba2e4\")) {                    Plotly.newPlot(                        \"aba0d382-df0d-4761-8b5c-75088c6ba2e4\",                        [{\"coloraxis\":\"coloraxis\",\"geo\":\"geo\",\"hovertemplate\":\"<b>%{hovertext}</b><br><br>LocationAbbr=%{location}<br>Data_Value=%{z}<extra></extra>\",\"hovertext\":[\"AK\",\"MD\",\"VA\",\"OK\",\"FL\",\"OR\",\"WA\",\"NY\",\"MN\",\"SD\",\"KS\",\"VT\",\"AZ\",\"KY\",\"PA\",\"IL\",\"WY\",\"MT\",\"OH\",\"TN\",\"DE\",\"ID\",\"MI\",\"NM\",\"NE\",\"LA\",\"ND\",\"NH\",\"MO\",\"RI\",\"WI\",\"IN\",\"AR\",\"MA\",\"NJ\",\"CT\",\"NV\",\"HI\",\"TX\",\"ME\",\"SC\",\"IA\",\"CA\",\"NC\",\"WV\",\"GA\",\"CO\",\"MS\",\"AL\",\"UT\"],\"locationmode\":\"USA-states\",\"locations\":[\"AK\",\"MD\",\"VA\",\"OK\",\"FL\",\"OR\",\"WA\",\"NY\",\"MN\",\"SD\",\"KS\",\"VT\",\"AZ\",\"KY\",\"PA\",\"IL\",\"WY\",\"MT\",\"OH\",\"TN\",\"DE\",\"ID\",\"MI\",\"NM\",\"NE\",\"LA\",\"ND\",\"NH\",\"MO\",\"RI\",\"WI\",\"IN\",\"AR\",\"MA\",\"NJ\",\"CT\",\"NV\",\"HI\",\"TX\",\"ME\",\"SC\",\"IA\",\"CA\",\"NC\",\"WV\",\"GA\",\"CO\",\"MS\",\"AL\",\"UT\"],\"name\":\"\",\"z\":[31.9,31.0,32.2,36.4,28.4,28.1,28.0,26.3,30.7,33.2,35.3,26.3,30.9,36.6,31.5,32.4,30.7,28.5,35.5,35.6,36.5,31.1,35.2,30.9,34.0,38.1,33.1,29.9,34.0,30.1,32.3,36.8,36.4,24.4,27.7,29.2,28.7,24.5,35.8,31.0,36.2,36.5,30.3,33.6,39.1,34.3,24.2,39.7,39.0,28.6],\"type\":\"choropleth\"},{\"locationmode\":\"USA-states\",\"mode\":\"text\",\"text\":[\"AK\",\"MD\",\"VA\",\"OK\",\"FL\",\"OR\",\"WA\",\"NY\",\"MN\",\"SD\",\"KS\",\"VT\",\"AZ\",\"KY\",\"PA\",\"IL\",\"WY\",\"MT\",\"OH\",\"TN\",\"DE\",\"ID\",\"MI\",\"NM\",\"NE\",\"LA\",\"ND\",\"NH\",\"MO\",\"RI\",\"WI\",\"IN\",\"AR\",\"MA\",\"NJ\",\"CT\",\"NV\",\"HI\",\"TX\",\"ME\",\"SC\",\"IA\",\"CA\",\"NC\",\"WV\",\"GA\",\"CO\",\"MS\",\"AL\",\"UT\"],\"type\":\"scattergeo\"}],                        {\"template\":{\"data\":{\"histogram2dcontour\":[{\"type\":\"histogram2dcontour\",\"colorbar\":{\"outlinewidth\":0,\"ticks\":\"\"},\"colorscale\":[[0.0,\"#0d0887\"],[0.1111111111111111,\"#46039f\"],[0.2222222222222222,\"#7201a8\"],[0.3333333333333333,\"#9c179e\"],[0.4444444444444444,\"#bd3786\"],[0.5555555555555556,\"#d8576b\"],[0.6666666666666666,\"#ed7953\"],[0.7777777777777778,\"#fb9f3a\"],[0.8888888888888888,\"#fdca26\"],[1.0,\"#f0f921\"]]}],\"choropleth\":[{\"type\":\"choropleth\",\"colorbar\":{\"outlinewidth\":0,\"ticks\":\"\"}}],\"histogram2d\":[{\"type\":\"histogram2d\",\"colorbar\":{\"outlinewidth\":0,\"ticks\":\"\"},\"colorscale\":[[0.0,\"#0d0887\"],[0.1111111111111111,\"#46039f\"],[0.2222222222222222,\"#7201a8\"],[0.3333333333333333,\"#9c179e\"],[0.4444444444444444,\"#bd3786\"],[0.5555555555555556,\"#d8576b\"],[0.6666666666666666,\"#ed7953\"],[0.7777777777777778,\"#fb9f3a\"],[0.8888888888888888,\"#fdca26\"],[1.0,\"#f0f921\"]]}],\"heatmap\":[{\"type\":\"heatmap\",\"colorbar\":{\"outlinewidth\":0,\"ticks\":\"\"},\"colorscale\":[[0.0,\"#0d0887\"],[0.1111111111111111,\"#46039f\"],[0.2222222222222222,\"#7201a8\"],[0.3333333333333333,\"#9c179e\"],[0.4444444444444444,\"#bd3786\"],[0.5555555555555556,\"#d8576b\"],[0.6666666666666666,\"#ed7953\"],[0.7777777777777778,\"#fb9f3a\"],[0.8888888888888888,\"#fdca26\"],[1.0,\"#f0f921\"]]}],\"heatmapgl\":[{\"type\":\"heatmapgl\",\"colorbar\":{\"outlinewidth\":0,\"ticks\":\"\"},\"colorscale\":[[0.0,\"#0d0887\"],[0.1111111111111111,\"#46039f\"],[0.2222222222222222,\"#7201a8\"],[0.3333333333333333,\"#9c179e\"],[0.4444444444444444,\"#bd3786\"],[0.5555555555555556,\"#d8576b\"],[0.6666666666666666,\"#ed7953\"],[0.7777777777777778,\"#fb9f3a\"],[0.8888888888888888,\"#fdca26\"],[1.0,\"#f0f921\"]]}],\"contourcarpet\":[{\"type\":\"contourcarpet\",\"colorbar\":{\"outlinewidth\":0,\"ticks\":\"\"}}],\"contour\":[{\"type\":\"contour\",\"colorbar\":{\"outlinewidth\":0,\"ticks\":\"\"},\"colorscale\":[[0.0,\"#0d0887\"],[0.1111111111111111,\"#46039f\"],[0.2222222222222222,\"#7201a8\"],[0.3333333333333333,\"#9c179e\"],[0.4444444444444444,\"#bd3786\"],[0.5555555555555556,\"#d8576b\"],[0.6666666666666666,\"#ed7953\"],[0.7777777777777778,\"#fb9f3a\"],[0.8888888888888888,\"#fdca26\"],[1.0,\"#f0f921\"]]}],\"surface\":[{\"type\":\"surface\",\"colorbar\":{\"outlinewidth\":0,\"ticks\":\"\"},\"colorscale\":[[0.0,\"#0d0887\"],[0.1111111111111111,\"#46039f\"],[0.2222222222222222,\"#7201a8\"],[0.3333333333333333,\"#9c179e\"],[0.4444444444444444,\"#bd3786\"],[0.5555555555555556,\"#d8576b\"],[0.6666666666666666,\"#ed7953\"],[0.7777777777777778,\"#fb9f3a\"],[0.8888888888888888,\"#fdca26\"],[1.0,\"#f0f921\"]]}],\"mesh3d\":[{\"type\":\"mesh3d\",\"colorbar\":{\"outlinewidth\":0,\"ticks\":\"\"}}],\"scatter\":[{\"fillpattern\":{\"fillmode\":\"overlay\",\"size\":10,\"solidity\":0.2},\"type\":\"scatter\"}],\"parcoords\":[{\"type\":\"parcoords\",\"line\":{\"colorbar\":{\"outlinewidth\":0,\"ticks\":\"\"}}}],\"scatterpolargl\":[{\"type\":\"scatterpolargl\",\"marker\":{\"colorbar\":{\"outlinewidth\":0,\"ticks\":\"\"}}}],\"bar\":[{\"error_x\":{\"color\":\"#2a3f5f\"},\"error_y\":{\"color\":\"#2a3f5f\"},\"marker\":{\"line\":{\"color\":\"#E5ECF6\",\"width\":0.5},\"pattern\":{\"fillmode\":\"overlay\",\"size\":10,\"solidity\":0.2}},\"type\":\"bar\"}],\"scattergeo\":[{\"type\":\"scattergeo\",\"marker\":{\"colorbar\":{\"outlinewidth\":0,\"ticks\":\"\"}}}],\"scatterpolar\":[{\"type\":\"scatterpolar\",\"marker\":{\"colorbar\":{\"outlinewidth\":0,\"ticks\":\"\"}}}],\"histogram\":[{\"marker\":{\"pattern\":{\"fillmode\":\"overlay\",\"size\":10,\"solidity\":0.2}},\"type\":\"histogram\"}],\"scattergl\":[{\"type\":\"scattergl\",\"marker\":{\"colorbar\":{\"outlinewidth\":0,\"ticks\":\"\"}}}],\"scatter3d\":[{\"type\":\"scatter3d\",\"line\":{\"colorbar\":{\"outlinewidth\":0,\"ticks\":\"\"}},\"marker\":{\"colorbar\":{\"outlinewidth\":0,\"ticks\":\"\"}}}],\"scattermapbox\":[{\"type\":\"scattermapbox\",\"marker\":{\"colorbar\":{\"outlinewidth\":0,\"ticks\":\"\"}}}],\"scatterternary\":[{\"type\":\"scatterternary\",\"marker\":{\"colorbar\":{\"outlinewidth\":0,\"ticks\":\"\"}}}],\"scattercarpet\":[{\"type\":\"scattercarpet\",\"marker\":{\"colorbar\":{\"outlinewidth\":0,\"ticks\":\"\"}}}],\"carpet\":[{\"aaxis\":{\"endlinecolor\":\"#2a3f5f\",\"gridcolor\":\"white\",\"linecolor\":\"white\",\"minorgridcolor\":\"white\",\"startlinecolor\":\"#2a3f5f\"},\"baxis\":{\"endlinecolor\":\"#2a3f5f\",\"gridcolor\":\"white\",\"linecolor\":\"white\",\"minorgridcolor\":\"white\",\"startlinecolor\":\"#2a3f5f\"},\"type\":\"carpet\"}],\"table\":[{\"cells\":{\"fill\":{\"color\":\"#EBF0F8\"},\"line\":{\"color\":\"white\"}},\"header\":{\"fill\":{\"color\":\"#C8D4E3\"},\"line\":{\"color\":\"white\"}},\"type\":\"table\"}],\"barpolar\":[{\"marker\":{\"line\":{\"color\":\"#E5ECF6\",\"width\":0.5},\"pattern\":{\"fillmode\":\"overlay\",\"size\":10,\"solidity\":0.2}},\"type\":\"barpolar\"}],\"pie\":[{\"automargin\":true,\"type\":\"pie\"}]},\"layout\":{\"autotypenumbers\":\"strict\",\"colorway\":[\"#636efa\",\"#EF553B\",\"#00cc96\",\"#ab63fa\",\"#FFA15A\",\"#19d3f3\",\"#FF6692\",\"#B6E880\",\"#FF97FF\",\"#FECB52\"],\"font\":{\"color\":\"#2a3f5f\"},\"hovermode\":\"closest\",\"hoverlabel\":{\"align\":\"left\"},\"paper_bgcolor\":\"white\",\"plot_bgcolor\":\"#E5ECF6\",\"polar\":{\"bgcolor\":\"#E5ECF6\",\"angularaxis\":{\"gridcolor\":\"white\",\"linecolor\":\"white\",\"ticks\":\"\"},\"radialaxis\":{\"gridcolor\":\"white\",\"linecolor\":\"white\",\"ticks\":\"\"}},\"ternary\":{\"bgcolor\":\"#E5ECF6\",\"aaxis\":{\"gridcolor\":\"white\",\"linecolor\":\"white\",\"ticks\":\"\"},\"baxis\":{\"gridcolor\":\"white\",\"linecolor\":\"white\",\"ticks\":\"\"},\"caxis\":{\"gridcolor\":\"white\",\"linecolor\":\"white\",\"ticks\":\"\"}},\"coloraxis\":{\"colorbar\":{\"outlinewidth\":0,\"ticks\":\"\"}},\"colorscale\":{\"sequential\":[[0.0,\"#0d0887\"],[0.1111111111111111,\"#46039f\"],[0.2222222222222222,\"#7201a8\"],[0.3333333333333333,\"#9c179e\"],[0.4444444444444444,\"#bd3786\"],[0.5555555555555556,\"#d8576b\"],[0.6666666666666666,\"#ed7953\"],[0.7777777777777778,\"#fb9f3a\"],[0.8888888888888888,\"#fdca26\"],[1.0,\"#f0f921\"]],\"sequentialminus\":[[0.0,\"#0d0887\"],[0.1111111111111111,\"#46039f\"],[0.2222222222222222,\"#7201a8\"],[0.3333333333333333,\"#9c179e\"],[0.4444444444444444,\"#bd3786\"],[0.5555555555555556,\"#d8576b\"],[0.6666666666666666,\"#ed7953\"],[0.7777777777777778,\"#fb9f3a\"],[0.8888888888888888,\"#fdca26\"],[1.0,\"#f0f921\"]],\"diverging\":[[0,\"#8e0152\"],[0.1,\"#c51b7d\"],[0.2,\"#de77ae\"],[0.3,\"#f1b6da\"],[0.4,\"#fde0ef\"],[0.5,\"#f7f7f7\"],[0.6,\"#e6f5d0\"],[0.7,\"#b8e186\"],[0.8,\"#7fbc41\"],[0.9,\"#4d9221\"],[1,\"#276419\"]]},\"xaxis\":{\"gridcolor\":\"white\",\"linecolor\":\"white\",\"ticks\":\"\",\"title\":{\"standoff\":15},\"zerolinecolor\":\"white\",\"automargin\":true,\"zerolinewidth\":2},\"yaxis\":{\"gridcolor\":\"white\",\"linecolor\":\"white\",\"ticks\":\"\",\"title\":{\"standoff\":15},\"zerolinecolor\":\"white\",\"automargin\":true,\"zerolinewidth\":2},\"scene\":{\"xaxis\":{\"backgroundcolor\":\"#E5ECF6\",\"gridcolor\":\"white\",\"linecolor\":\"white\",\"showbackground\":true,\"ticks\":\"\",\"zerolinecolor\":\"white\",\"gridwidth\":2},\"yaxis\":{\"backgroundcolor\":\"#E5ECF6\",\"gridcolor\":\"white\",\"linecolor\":\"white\",\"showbackground\":true,\"ticks\":\"\",\"zerolinecolor\":\"white\",\"gridwidth\":2},\"zaxis\":{\"backgroundcolor\":\"#E5ECF6\",\"gridcolor\":\"white\",\"linecolor\":\"white\",\"showbackground\":true,\"ticks\":\"\",\"zerolinecolor\":\"white\",\"gridwidth\":2}},\"shapedefaults\":{\"line\":{\"color\":\"#2a3f5f\"}},\"annotationdefaults\":{\"arrowcolor\":\"#2a3f5f\",\"arrowhead\":0,\"arrowwidth\":1},\"geo\":{\"bgcolor\":\"white\",\"landcolor\":\"#E5ECF6\",\"subunitcolor\":\"white\",\"showland\":true,\"showlakes\":true,\"lakecolor\":\"white\"},\"title\":{\"x\":0.05},\"mapbox\":{\"style\":\"light\"}}},\"geo\":{\"domain\":{\"x\":[0.0,1.0],\"y\":[0.0,1.0]},\"center\":{},\"scope\":\"usa\"},\"coloraxis\":{\"colorbar\":{\"title\":{\"text\":\"Data_Value\"}},\"colorscale\":[[0.0,\"rgb(94,79,162)\"],[0.1,\"rgb(50,136,189)\"],[0.2,\"rgb(102,194,165)\"],[0.3,\"rgb(171,221,164)\"],[0.4,\"rgb(230,245,152)\"],[0.5,\"rgb(255,255,191)\"],[0.6,\"rgb(254,224,139)\"],[0.7,\"rgb(253,174,97)\"],[0.8,\"rgb(244,109,67)\"],[0.9,\"rgb(213,62,79)\"],[1.0,\"rgb(158,1,66)\"]]},\"legend\":{\"tracegroupgap\":0},\"margin\":{\"t\":60},\"title\":{\"text\":\"2020 Obesity Rates %\",\"xanchor\":\"center\",\"yanchor\":\"top\",\"x\":0.5}},                        {\"responsive\": true}                    ).then(function(){\n",
       "                            \n",
       "var gd = document.getElementById('aba0d382-df0d-4761-8b5c-75088c6ba2e4');\n",
       "var x = new MutationObserver(function (mutations, observer) {{\n",
       "        var display = window.getComputedStyle(gd).display;\n",
       "        if (!display || display === 'none') {{\n",
       "            console.log([gd, 'removed!']);\n",
       "            Plotly.purge(gd);\n",
       "            observer.disconnect();\n",
       "        }}\n",
       "}});\n",
       "\n",
       "// Listen for the removal of the full notebook cells\n",
       "var notebookContainer = gd.closest('#notebook-container');\n",
       "if (notebookContainer) {{\n",
       "    x.observe(notebookContainer, {childList: true});\n",
       "}}\n",
       "\n",
       "// Listen for the clearing of the current output cell\n",
       "var outputEl = gd.closest('.output');\n",
       "if (outputEl) {{\n",
       "    x.observe(outputEl, {childList: true});\n",
       "}}\n",
       "\n",
       "                        })                };                });            </script>        </div>"
      ]
     },
     "metadata": {},
     "output_type": "display_data"
    }
   ],
   "source": [
    "#fig = px.choropleth(locations=obese_df['LocationAbbr'], locationmode=\"USA-states\", color=obese_df['Data_Value'], scope=\"usa\",color_continuous_scale='spectral_r')\n",
    "\n",
    "fig = px.choropleth(obese_df,\n",
    "                    locations= obese_df['LocationAbbr'],\n",
    "                    color= obese_df['Data_Value'],\n",
    "                    color_continuous_scale='spectral_r',\n",
    "                    hover_name=obese_df['LocationAbbr'],\n",
    "                    locationmode='USA-states',\n",
    "                    #labels={'Current Unemployment Rate':'Unemployment Rate %'},\n",
    "                    scope='usa')\n",
    "\n",
    "fig.add_scattergeo(\n",
    "    #locations=obese_df['LocationAbbr'],\n",
    "    locationmode='USA-states',\n",
    "    text=obese_df['LocationAbbr'],\n",
    "    mode='text')\n",
    "\n",
    "fig.update_layout(\n",
    "    title={'text':'2020 Obesity Rates %',\n",
    "           'xanchor':'center',\n",
    "           'yanchor':'top',\n",
    "           'x':0.5})\n",
    "\n",
    "fig.show()"
   ]
  },
  {
   "cell_type": "code",
   "execution_count": 39,
   "id": "26f42cd0",
   "metadata": {},
   "outputs": [
    {
     "name": "stdout",
     "output_type": "stream",
     "text": [
      "['Age (years)', 'Education', 'Gender', 'Income', 'Race/Ethnicity', 'Total']\n"
     ]
    }
   ],
   "source": [
    "list_of_questions = obese_df['StratificationCategory1'].unique()\n",
    "print(sorted(list_of_questions))"
   ]
  },
  {
   "cell_type": "code",
   "execution_count": null,
   "id": "508f190d",
   "metadata": {},
   "outputs": [],
   "source": []
  }
 ],
 "metadata": {
  "kernelspec": {
   "display_name": "Python 3 (ipykernel)",
   "language": "python",
   "name": "python3"
  },
  "language_info": {
   "codemirror_mode": {
    "name": "ipython",
    "version": 3
   },
   "file_extension": ".py",
   "mimetype": "text/x-python",
   "name": "python",
   "nbconvert_exporter": "python",
   "pygments_lexer": "ipython3",
   "version": "3.11.5"
  }
 },
 "nbformat": 4,
 "nbformat_minor": 5
}
