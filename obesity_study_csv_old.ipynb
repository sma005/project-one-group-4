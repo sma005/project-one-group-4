{
 "cells": [
  {
   "cell_type": "code",
   "execution_count": 81,
   "id": "b96ccc4d",
   "metadata": {},
   "outputs": [],
   "source": [
    "# Dependencies and Setup\n",
    "import matplotlib.pyplot as plt\n",
    "import plotly.express as px\n",
    "import pandas as pd\n",
    "import numpy as np\n",
    "import requests\n",
    "import time\n",
    "import json\n",
    "import string\n",
    "from datetime import date\n",
    "import scipy.stats as st\n",
    "from scipy.stats import linregress \n",
    "\n",
    "import warnings\n",
    "warnings.simplefilter(action='ignore', category=FutureWarning)\n",
    "#Notes: https://data.cdc.gov/Nutrition-Physical-Activity-and-Obesity/Nutrition-Physical-Activity-and-Obesity-Behavioral/hn4x-zwk7\n",
    "\n"
   ]
  },
  {
   "cell_type": "code",
   "execution_count": 3,
   "id": "28e03b52",
   "metadata": {},
   "outputs": [],
   "source": [
    "#Import the API Key\n",
    "data_df = pd.read_csv(r\"Resources\\Nutrition__Physical_Activity__and_Obesity_-_Behavioral_Risk_Factor_Surveillance_System_20231101.csv\")\n",
    "#Add calculated number of obese people\n",
    "data_df['calculated_num_obese'] = round(data_df['Sample_Size'] * data_df['Data_Value'] * .01)"
   ]
  },
  {
   "cell_type": "code",
   "execution_count": 23,
   "id": "6c9238e1",
   "metadata": {},
   "outputs": [
    {
     "data": {
      "text/plain": [
       "array(['Race/Ethnicity', 'Education', 'Income', 'Age (years)', 'Gender',\n",
       "       'Total', nan], dtype=object)"
      ]
     },
     "execution_count": 23,
     "metadata": {},
     "output_type": "execute_result"
    }
   ],
   "source": [
    "list_of_categories = data_df['StratificationCategory1'].unique()\n",
    "list_of_categories"
   ]
  },
  {
   "cell_type": "code",
   "execution_count": 47,
   "id": "1b80dc54",
   "metadata": {},
   "outputs": [
    {
     "name": "stdout",
     "output_type": "stream",
     "text": [
      "<class 'pandas.core.frame.DataFrame'>\n",
      "RangeIndex: 88629 entries, 0 to 88628\n",
      "Data columns (total 10 columns):\n",
      " #   Column                   Non-Null Count  Dtype  \n",
      "---  ------                   --------------  -----  \n",
      " 0   YearEnd                  88629 non-null  int64  \n",
      " 1   LocationAbbr             88629 non-null  object \n",
      " 2   Question                 88629 non-null  object \n",
      " 3   Data_Value               79851 non-null  float64\n",
      " 4   Sample_Size              79851 non-null  float64\n",
      " 5   Race/Ethnicity           25320 non-null  object \n",
      " 6   Education                12660 non-null  object \n",
      " 7   Gender                   6330 non-null   object \n",
      " 8   StratificationCategory1  88620 non-null  object \n",
      " 9   Stratification1          88620 non-null  object \n",
      "dtypes: float64(2), int64(1), object(7)\n",
      "memory usage: 6.8+ MB\n"
     ]
    }
   ],
   "source": [
    "# Convert data into a Pandas DataFrame\n",
    "data_df = data_df[['YearEnd','LocationAbbr','Question','Data_Value','Sample_Size','Race/Ethnicity','Education','Gender','StratificationCategory1','Stratification1']]\n",
    "\n",
    "data_df.info()"
   ]
  },
  {
   "cell_type": "code",
   "execution_count": 25,
   "id": "0723ce8b",
   "metadata": {},
   "outputs": [
    {
     "name": "stdout",
     "output_type": "stream",
     "text": [
      "['Percent of adults aged 18 years and older who have an overweight classification', 'Percent of adults aged 18 years and older who have obesity', 'Percent of adults who achieve at least 150 minutes a week of moderate-intensity aerobic physical activity or 75 minutes a week of vigorous-intensity aerobic activity (or an equivalent combination)', 'Percent of adults who achieve at least 150 minutes a week of moderate-intensity aerobic physical activity or 75 minutes a week of vigorous-intensity aerobic physical activity and engage in muscle-strengthening activities on 2 or more days a week', 'Percent of adults who achieve at least 300 minutes a week of moderate-intensity aerobic physical activity or 150 minutes a week of vigorous-intensity aerobic activity (or an equivalent combination)', 'Percent of adults who engage in muscle-strengthening activities on 2 or more days a week', 'Percent of adults who engage in no leisure-time physical activity', 'Percent of adults who report consuming fruit less than one time daily', 'Percent of adults who report consuming vegetables less than one time daily']\n"
     ]
    }
   ],
   "source": [
    "#These are the questions this dataset answers\n",
    "list_of_questions = data_df['Question'].unique()\n",
    "print(sorted(list_of_questions))"
   ]
  },
  {
   "cell_type": "code",
   "execution_count": 26,
   "id": "6ea9bef5",
   "metadata": {},
   "outputs": [],
   "source": [
    "overweight_df = data_df[data_df['Question'] == 'Percent of adults aged 18 years and older who have an overweight classification']"
   ]
  },
  {
   "cell_type": "code",
   "execution_count": 27,
   "id": "e6458eb1",
   "metadata": {},
   "outputs": [],
   "source": [
    "obese_df = data_df[data_df['Question'] == 'Percent of adults aged 18 years and older who have obesity']"
   ]
  },
  {
   "cell_type": "code",
   "execution_count": 28,
   "id": "315edb4d",
   "metadata": {},
   "outputs": [
    {
     "data": {
      "text/html": [
       "<div>\n",
       "<style scoped>\n",
       "    .dataframe tbody tr th:only-of-type {\n",
       "        vertical-align: middle;\n",
       "    }\n",
       "\n",
       "    .dataframe tbody tr th {\n",
       "        vertical-align: top;\n",
       "    }\n",
       "\n",
       "    .dataframe thead th {\n",
       "        text-align: right;\n",
       "    }\n",
       "</style>\n",
       "<table border=\"1\" class=\"dataframe\">\n",
       "  <thead>\n",
       "    <tr style=\"text-align: right;\">\n",
       "      <th></th>\n",
       "      <th>YearEnd</th>\n",
       "      <th>LocationAbbr</th>\n",
       "      <th>Question</th>\n",
       "      <th>Data_Value</th>\n",
       "      <th>Sample_Size</th>\n",
       "      <th>StratificationCategory1</th>\n",
       "      <th>Stratification1</th>\n",
       "    </tr>\n",
       "  </thead>\n",
       "  <tbody>\n",
       "    <tr>\n",
       "      <th>8846</th>\n",
       "      <td>2020</td>\n",
       "      <td>US</td>\n",
       "      <td>Percent of adults aged 18 years and older who ...</td>\n",
       "      <td>19.5</td>\n",
       "      <td>22611.0</td>\n",
       "      <td>Age (years)</td>\n",
       "      <td>18 - 24</td>\n",
       "    </tr>\n",
       "    <tr>\n",
       "      <th>7438</th>\n",
       "      <td>2020</td>\n",
       "      <td>US</td>\n",
       "      <td>Percent of adults aged 18 years and older who ...</td>\n",
       "      <td>30.9</td>\n",
       "      <td>38280.0</td>\n",
       "      <td>Age (years)</td>\n",
       "      <td>25 - 34</td>\n",
       "    </tr>\n",
       "    <tr>\n",
       "      <th>7159</th>\n",
       "      <td>2020</td>\n",
       "      <td>US</td>\n",
       "      <td>Percent of adults aged 18 years and older who ...</td>\n",
       "      <td>35.5</td>\n",
       "      <td>44948.0</td>\n",
       "      <td>Age (years)</td>\n",
       "      <td>35 - 44</td>\n",
       "    </tr>\n",
       "    <tr>\n",
       "      <th>8601</th>\n",
       "      <td>2020</td>\n",
       "      <td>US</td>\n",
       "      <td>Percent of adults aged 18 years and older who ...</td>\n",
       "      <td>38.1</td>\n",
       "      <td>52842.0</td>\n",
       "      <td>Age (years)</td>\n",
       "      <td>45 - 54</td>\n",
       "    </tr>\n",
       "    <tr>\n",
       "      <th>10441</th>\n",
       "      <td>2020</td>\n",
       "      <td>US</td>\n",
       "      <td>Percent of adults aged 18 years and older who ...</td>\n",
       "      <td>36.3</td>\n",
       "      <td>69210.0</td>\n",
       "      <td>Age (years)</td>\n",
       "      <td>55 - 64</td>\n",
       "    </tr>\n",
       "    <tr>\n",
       "      <th>6597</th>\n",
       "      <td>2020</td>\n",
       "      <td>US</td>\n",
       "      <td>Percent of adults aged 18 years and older who ...</td>\n",
       "      <td>29.3</td>\n",
       "      <td>125950.0</td>\n",
       "      <td>Age (years)</td>\n",
       "      <td>65 or older</td>\n",
       "    </tr>\n",
       "  </tbody>\n",
       "</table>\n",
       "</div>"
      ],
      "text/plain": [
       "       YearEnd LocationAbbr  \\\n",
       "8846      2020           US   \n",
       "7438      2020           US   \n",
       "7159      2020           US   \n",
       "8601      2020           US   \n",
       "10441     2020           US   \n",
       "6597      2020           US   \n",
       "\n",
       "                                                Question  Data_Value  \\\n",
       "8846   Percent of adults aged 18 years and older who ...        19.5   \n",
       "7438   Percent of adults aged 18 years and older who ...        30.9   \n",
       "7159   Percent of adults aged 18 years and older who ...        35.5   \n",
       "8601   Percent of adults aged 18 years and older who ...        38.1   \n",
       "10441  Percent of adults aged 18 years and older who ...        36.3   \n",
       "6597   Percent of adults aged 18 years and older who ...        29.3   \n",
       "\n",
       "       Sample_Size StratificationCategory1 Stratification1  \n",
       "8846       22611.0             Age (years)         18 - 24  \n",
       "7438       38280.0             Age (years)         25 - 34  \n",
       "7159       44948.0             Age (years)         35 - 44  \n",
       "8601       52842.0             Age (years)         45 - 54  \n",
       "10441      69210.0             Age (years)         55 - 64  \n",
       "6597      125950.0             Age (years)     65 or older  "
      ]
     },
     "execution_count": 28,
     "metadata": {},
     "output_type": "execute_result"
    }
   ],
   "source": [
    "age_data_df = data_df.loc[:,['YearEnd','LocationAbbr','Question','Data_Value','Sample_Size','StratificationCategory1','Stratification1']]\n",
    "\n",
    "age_data_df = age_data_df[age_data_df['YearEnd']==2020]\n",
    "age_data_df = age_data_df[age_data_df['LocationAbbr']=='US']\n",
    "age_data_df = age_data_df[age_data_df['StratificationCategory1']=='Age (years)']\n",
    "age_data_df = age_data_df[age_data_df['Question']=='Percent of adults aged 18 years and older who have obesity']\n",
    "age_data_df = age_data_df.sort_values(by='Stratification1', ascending=True)\n",
    "\n",
    "age_data_df"
   ]
  },
  {
   "cell_type": "code",
   "execution_count": 29,
   "id": "c8357874",
   "metadata": {
    "scrolled": true
   },
   "outputs": [
    {
     "data": {
      "image/png": "[encoded data removed]",
      "text/plain": [
       "<Figure size 640x480 with 1 Axes>"
      ]
     },
     "metadata": {},
     "output_type": "display_data"
    }
   ],
   "source": [
    "age_data_df.plot.bar(x='Stratification1', y='Data_Value', color='orange')\n",
    "\n",
    "plt.xticks(rotation=30, horizontalalignment=\"center\")\n",
    "plt.title(\"Percent of Obese in US by Age Groups\")\n",
    "plt.xlabel(\"Age Groups\")\n",
    "plt.ylabel(\"Percent of Obese\")\n",
    "plt.legend(['Obese %'], loc=\"upper left\")\n",
    "plt.show()"
   ]
  },
  {
   "cell_type": "code",
   "execution_count": 30,
   "id": "47df0dde",
   "metadata": {},
   "outputs": [
    {
     "data": {
      "text/html": [
       "<div>\n",
       "<style scoped>\n",
       "    .dataframe tbody tr th:only-of-type {\n",
       "        vertical-align: middle;\n",
       "    }\n",
       "\n",
       "    .dataframe tbody tr th {\n",
       "        vertical-align: top;\n",
       "    }\n",
       "\n",
       "    .dataframe thead th {\n",
       "        text-align: right;\n",
       "    }\n",
       "</style>\n",
       "<table border=\"1\" class=\"dataframe\">\n",
       "  <thead>\n",
       "    <tr style=\"text-align: right;\">\n",
       "      <th></th>\n",
       "      <th>YearEnd</th>\n",
       "      <th>LocationAbbr</th>\n",
       "      <th>Question</th>\n",
       "      <th>Data_Value</th>\n",
       "      <th>Sample_Size</th>\n",
       "      <th>StratificationCategory1</th>\n",
       "      <th>Stratification1</th>\n",
       "    </tr>\n",
       "  </thead>\n",
       "  <tbody>\n",
       "    <tr>\n",
       "      <th>6868</th>\n",
       "      <td>2020</td>\n",
       "      <td>US</td>\n",
       "      <td>Percent of adults aged 18 years and older who ...</td>\n",
       "      <td>26.6</td>\n",
       "      <td>22611.0</td>\n",
       "      <td>Age (years)</td>\n",
       "      <td>18 - 24</td>\n",
       "    </tr>\n",
       "    <tr>\n",
       "      <th>8143</th>\n",
       "      <td>2020</td>\n",
       "      <td>US</td>\n",
       "      <td>Percent of adults aged 18 years and older who ...</td>\n",
       "      <td>32.7</td>\n",
       "      <td>38280.0</td>\n",
       "      <td>Age (years)</td>\n",
       "      <td>25 - 34</td>\n",
       "    </tr>\n",
       "    <tr>\n",
       "      <th>6673</th>\n",
       "      <td>2020</td>\n",
       "      <td>US</td>\n",
       "      <td>Percent of adults aged 18 years and older who ...</td>\n",
       "      <td>34.8</td>\n",
       "      <td>44948.0</td>\n",
       "      <td>Age (years)</td>\n",
       "      <td>35 - 44</td>\n",
       "    </tr>\n",
       "    <tr>\n",
       "      <th>5650</th>\n",
       "      <td>2020</td>\n",
       "      <td>US</td>\n",
       "      <td>Percent of adults aged 18 years and older who ...</td>\n",
       "      <td>36.2</td>\n",
       "      <td>52842.0</td>\n",
       "      <td>Age (years)</td>\n",
       "      <td>45 - 54</td>\n",
       "    </tr>\n",
       "    <tr>\n",
       "      <th>9686</th>\n",
       "      <td>2020</td>\n",
       "      <td>US</td>\n",
       "      <td>Percent of adults aged 18 years and older who ...</td>\n",
       "      <td>37.1</td>\n",
       "      <td>69210.0</td>\n",
       "      <td>Age (years)</td>\n",
       "      <td>55 - 64</td>\n",
       "    </tr>\n",
       "    <tr>\n",
       "      <th>8413</th>\n",
       "      <td>2020</td>\n",
       "      <td>US</td>\n",
       "      <td>Percent of adults aged 18 years and older who ...</td>\n",
       "      <td>38.4</td>\n",
       "      <td>125950.0</td>\n",
       "      <td>Age (years)</td>\n",
       "      <td>65 or older</td>\n",
       "    </tr>\n",
       "  </tbody>\n",
       "</table>\n",
       "</div>"
      ],
      "text/plain": [
       "      YearEnd LocationAbbr                                           Question  \\\n",
       "6868     2020           US  Percent of adults aged 18 years and older who ...   \n",
       "8143     2020           US  Percent of adults aged 18 years and older who ...   \n",
       "6673     2020           US  Percent of adults aged 18 years and older who ...   \n",
       "5650     2020           US  Percent of adults aged 18 years and older who ...   \n",
       "9686     2020           US  Percent of adults aged 18 years and older who ...   \n",
       "8413     2020           US  Percent of adults aged 18 years and older who ...   \n",
       "\n",
       "      Data_Value  Sample_Size StratificationCategory1 Stratification1  \n",
       "6868        26.6      22611.0             Age (years)         18 - 24  \n",
       "8143        32.7      38280.0             Age (years)         25 - 34  \n",
       "6673        34.8      44948.0             Age (years)         35 - 44  \n",
       "5650        36.2      52842.0             Age (years)         45 - 54  \n",
       "9686        37.1      69210.0             Age (years)         55 - 64  \n",
       "8413        38.4     125950.0             Age (years)     65 or older  "
      ]
     },
     "execution_count": 30,
     "metadata": {},
     "output_type": "execute_result"
    }
   ],
   "source": [
    "age_data_overweight_df = data_df.loc[:,['YearEnd','LocationAbbr','Question','Data_Value','Sample_Size','StratificationCategory1','Stratification1']]\n",
    "\n",
    "age_data_overweight_df = age_data_overweight_df[age_data_overweight_df['YearEnd']==2020]\n",
    "age_data_overweight_df = age_data_overweight_df[age_data_overweight_df['LocationAbbr']=='US']\n",
    "age_data_overweight_df = age_data_overweight_df[age_data_overweight_df['StratificationCategory1']=='Age (years)']\n",
    "age_data_overweight_df = age_data_overweight_df[age_data_overweight_df['Question']=='Percent of adults aged 18 years and older who have an overweight classification']\n",
    "age_data_overweight_df = age_data_overweight_df.sort_values(by='Stratification1', ascending=True)\n",
    "\n",
    "age_data_overweight_df"
   ]
  },
  {
   "cell_type": "code",
   "execution_count": 31,
   "id": "4bc91a1e",
   "metadata": {},
   "outputs": [
    {
     "data": {
      "image/png": "[encoded data removed]",
      "text/plain": [
       "<Figure size 640x480 with 1 Axes>"
      ]
     },
     "metadata": {},
     "output_type": "display_data"
    }
   ],
   "source": [
    "age_data_overweight_df.plot.bar(x='Stratification1', y='Data_Value', color='green')\n",
    "\n",
    "plt.xticks(rotation=30, horizontalalignment=\"center\")\n",
    "plt.title(\"Percent of Overweight in US by Age Groups\")\n",
    "plt.xlabel(\"Age Groups\")\n",
    "plt.ylabel(\"Percent of Overweight\")\n",
    "plt.legend(['Overweight %'], loc=\"upper left\")\n",
    "plt.show()"
   ]
  },
  {
   "cell_type": "code",
   "execution_count": 32,
   "id": "1dea269d",
   "metadata": {
    "scrolled": false
   },
   "outputs": [
    {
     "data": {
      "text/html": [
       "<div>\n",
       "<style scoped>\n",
       "    .dataframe tbody tr th:only-of-type {\n",
       "        vertical-align: middle;\n",
       "    }\n",
       "\n",
       "    .dataframe tbody tr th {\n",
       "        vertical-align: top;\n",
       "    }\n",
       "\n",
       "    .dataframe thead th {\n",
       "        text-align: right;\n",
       "    }\n",
       "</style>\n",
       "<table border=\"1\" class=\"dataframe\">\n",
       "  <thead>\n",
       "    <tr style=\"text-align: right;\">\n",
       "      <th></th>\n",
       "      <th>YearEnd</th>\n",
       "      <th>LocationAbbr</th>\n",
       "      <th>Question</th>\n",
       "      <th>Data_Value</th>\n",
       "      <th>Sample_Size</th>\n",
       "      <th>StratificationCategory1</th>\n",
       "      <th>Stratification1</th>\n",
       "    </tr>\n",
       "  </thead>\n",
       "  <tbody>\n",
       "    <tr>\n",
       "      <th>6076</th>\n",
       "      <td>2020</td>\n",
       "      <td>US</td>\n",
       "      <td>Percent of adults who engage in no leisure-tim...</td>\n",
       "      <td>34.0</td>\n",
       "      <td>47033.0</td>\n",
       "      <td>Income</td>\n",
       "      <td>$15,000 - $24,999</td>\n",
       "    </tr>\n",
       "    <tr>\n",
       "      <th>10242</th>\n",
       "      <td>2020</td>\n",
       "      <td>US</td>\n",
       "      <td>Percent of adults who engage in no leisure-tim...</td>\n",
       "      <td>29.8</td>\n",
       "      <td>30688.0</td>\n",
       "      <td>Income</td>\n",
       "      <td>$25,000 - $34,999</td>\n",
       "    </tr>\n",
       "    <tr>\n",
       "      <th>9171</th>\n",
       "      <td>2020</td>\n",
       "      <td>US</td>\n",
       "      <td>Percent of adults who engage in no leisure-tim...</td>\n",
       "      <td>24.2</td>\n",
       "      <td>43184.0</td>\n",
       "      <td>Income</td>\n",
       "      <td>$35,000 - $49,999</td>\n",
       "    </tr>\n",
       "    <tr>\n",
       "      <th>7984</th>\n",
       "      <td>2020</td>\n",
       "      <td>US</td>\n",
       "      <td>Percent of adults who engage in no leisure-tim...</td>\n",
       "      <td>20.4</td>\n",
       "      <td>51926.0</td>\n",
       "      <td>Income</td>\n",
       "      <td>$50,000 - $74,999</td>\n",
       "    </tr>\n",
       "    <tr>\n",
       "      <th>9015</th>\n",
       "      <td>2020</td>\n",
       "      <td>US</td>\n",
       "      <td>Percent of adults who engage in no leisure-tim...</td>\n",
       "      <td>12.7</td>\n",
       "      <td>117926.0</td>\n",
       "      <td>Income</td>\n",
       "      <td>$75,000 or greater</td>\n",
       "    </tr>\n",
       "    <tr>\n",
       "      <th>9964</th>\n",
       "      <td>2020</td>\n",
       "      <td>US</td>\n",
       "      <td>Percent of adults who engage in no leisure-tim...</td>\n",
       "      <td>26.9</td>\n",
       "      <td>78514.0</td>\n",
       "      <td>Income</td>\n",
       "      <td>Data not reported</td>\n",
       "    </tr>\n",
       "    <tr>\n",
       "      <th>7603</th>\n",
       "      <td>2020</td>\n",
       "      <td>US</td>\n",
       "      <td>Percent of adults who engage in no leisure-tim...</td>\n",
       "      <td>40.1</td>\n",
       "      <td>24882.0</td>\n",
       "      <td>Income</td>\n",
       "      <td>Less than $15,000</td>\n",
       "    </tr>\n",
       "  </tbody>\n",
       "</table>\n",
       "</div>"
      ],
      "text/plain": [
       "       YearEnd LocationAbbr  \\\n",
       "6076      2020           US   \n",
       "10242     2020           US   \n",
       "9171      2020           US   \n",
       "7984      2020           US   \n",
       "9015      2020           US   \n",
       "9964      2020           US   \n",
       "7603      2020           US   \n",
       "\n",
       "                                                Question  Data_Value  \\\n",
       "6076   Percent of adults who engage in no leisure-tim...        34.0   \n",
       "10242  Percent of adults who engage in no leisure-tim...        29.8   \n",
       "9171   Percent of adults who engage in no leisure-tim...        24.2   \n",
       "7984   Percent of adults who engage in no leisure-tim...        20.4   \n",
       "9015   Percent of adults who engage in no leisure-tim...        12.7   \n",
       "9964   Percent of adults who engage in no leisure-tim...        26.9   \n",
       "7603   Percent of adults who engage in no leisure-tim...        40.1   \n",
       "\n",
       "       Sample_Size StratificationCategory1     Stratification1  \n",
       "6076       47033.0                  Income   $15,000 - $24,999  \n",
       "10242      30688.0                  Income   $25,000 - $34,999  \n",
       "9171       43184.0                  Income   $35,000 - $49,999  \n",
       "7984       51926.0                  Income   $50,000 - $74,999  \n",
       "9015      117926.0                  Income  $75,000 or greater  \n",
       "9964       78514.0                  Income   Data not reported  \n",
       "7603       24882.0                  Income   Less than $15,000  "
      ]
     },
     "execution_count": 32,
     "metadata": {},
     "output_type": "execute_result"
    }
   ],
   "source": [
    "leisure_data_df = data_df.loc[:,['YearEnd','LocationAbbr','Question','Data_Value','Sample_Size','StratificationCategory1','Stratification1']]\n",
    "\n",
    "leisure_data_df = leisure_data_df[leisure_data_df['YearEnd']==2020]\n",
    "leisure_data_df = leisure_data_df[leisure_data_df['LocationAbbr']=='US']\n",
    "leisure_data_df = leisure_data_df[leisure_data_df['StratificationCategory1']=='Income']\n",
    "leisure_data_df = leisure_data_df[leisure_data_df['Question']== 'Percent of adults who engage in no leisure-time physical activity']\n",
    "leisure_data_df = leisure_data_df.sort_values(by='Stratification1', ascending=True)\n",
    "leisure_data_df = leisure_data_df.dropna()\n",
    "leisure_data_df"
   ]
  },
  {
   "cell_type": "code",
   "execution_count": 33,
   "id": "dfe7c206",
   "metadata": {
    "scrolled": true
   },
   "outputs": [
    {
     "data": {
      "image/png": "[encoded data removed]",
      "text/plain": [
       "<Figure size 640x480 with 1 Axes>"
      ]
     },
     "metadata": {},
     "output_type": "display_data"
    }
   ],
   "source": [
    "#Reorder the x-ticks\n",
    "leisure_data_df.plot.bar(x='Stratification1', y='Data_Value')\n",
    "\n",
    "plt.xticks(rotation=60, horizontalalignment=\"center\")\n",
    "plt.title(\"US National percent of adults who engage in no leisure-time physical activity\")\n",
    "plt.xlabel(\"Income Range\")\n",
    "plt.ylabel(\"Percent of Obese\")\n",
    "plt.legend(['Obese %'], loc=\"upper left\")\n",
    "plt.show()"
   ]
  },
  {
   "cell_type": "code",
   "execution_count": 34,
   "id": "af0a9d0c",
   "metadata": {},
   "outputs": [
    {
     "data": {
      "text/html": [
       "<div>\n",
       "<style scoped>\n",
       "    .dataframe tbody tr th:only-of-type {\n",
       "        vertical-align: middle;\n",
       "    }\n",
       "\n",
       "    .dataframe tbody tr th {\n",
       "        vertical-align: top;\n",
       "    }\n",
       "\n",
       "    .dataframe thead th {\n",
       "        text-align: right;\n",
       "    }\n",
       "</style>\n",
       "<table border=\"1\" class=\"dataframe\">\n",
       "  <thead>\n",
       "    <tr style=\"text-align: right;\">\n",
       "      <th></th>\n",
       "      <th>YearEnd</th>\n",
       "      <th>LocationAbbr</th>\n",
       "      <th>Question</th>\n",
       "      <th>Data_Value</th>\n",
       "      <th>Sample_Size</th>\n",
       "      <th>StratificationCategory1</th>\n",
       "      <th>Stratification1</th>\n",
       "    </tr>\n",
       "  </thead>\n",
       "  <tbody>\n",
       "    <tr>\n",
       "      <th>429</th>\n",
       "      <td>2020</td>\n",
       "      <td>AK</td>\n",
       "      <td>Percent of adults aged 18 years and older who ...</td>\n",
       "      <td>31.9</td>\n",
       "      <td>3335.0</td>\n",
       "      <td>Total</td>\n",
       "      <td>Total</td>\n",
       "    </tr>\n",
       "    <tr>\n",
       "      <th>5621</th>\n",
       "      <td>2020</td>\n",
       "      <td>MD</td>\n",
       "      <td>Percent of adults aged 18 years and older who ...</td>\n",
       "      <td>31.0</td>\n",
       "      <td>12562.0</td>\n",
       "      <td>Total</td>\n",
       "      <td>Total</td>\n",
       "    </tr>\n",
       "    <tr>\n",
       "      <th>5710</th>\n",
       "      <td>2020</td>\n",
       "      <td>VA</td>\n",
       "      <td>Percent of adults aged 18 years and older who ...</td>\n",
       "      <td>32.2</td>\n",
       "      <td>8568.0</td>\n",
       "      <td>Total</td>\n",
       "      <td>Total</td>\n",
       "    </tr>\n",
       "    <tr>\n",
       "      <th>5981</th>\n",
       "      <td>2020</td>\n",
       "      <td>OK</td>\n",
       "      <td>Percent of adults aged 18 years and older who ...</td>\n",
       "      <td>36.4</td>\n",
       "      <td>4530.0</td>\n",
       "      <td>Total</td>\n",
       "      <td>Total</td>\n",
       "    </tr>\n",
       "    <tr>\n",
       "      <th>6125</th>\n",
       "      <td>2020</td>\n",
       "      <td>FL</td>\n",
       "      <td>Percent of adults aged 18 years and older who ...</td>\n",
       "      <td>28.4</td>\n",
       "      <td>10591.0</td>\n",
       "      <td>Total</td>\n",
       "      <td>Total</td>\n",
       "    </tr>\n",
       "  </tbody>\n",
       "</table>\n",
       "</div>"
      ],
      "text/plain": [
       "      YearEnd LocationAbbr                                           Question  \\\n",
       "429      2020           AK  Percent of adults aged 18 years and older who ...   \n",
       "5621     2020           MD  Percent of adults aged 18 years and older who ...   \n",
       "5710     2020           VA  Percent of adults aged 18 years and older who ...   \n",
       "5981     2020           OK  Percent of adults aged 18 years and older who ...   \n",
       "6125     2020           FL  Percent of adults aged 18 years and older who ...   \n",
       "\n",
       "      Data_Value  Sample_Size StratificationCategory1 Stratification1  \n",
       "429         31.9       3335.0                   Total           Total  \n",
       "5621        31.0      12562.0                   Total           Total  \n",
       "5710        32.2       8568.0                   Total           Total  \n",
       "5981        36.4       4530.0                   Total           Total  \n",
       "6125        28.4      10591.0                   Total           Total  "
      ]
     },
     "execution_count": 34,
     "metadata": {},
     "output_type": "execute_result"
    }
   ],
   "source": [
    "obese_df = data_df.loc[:,['YearEnd','LocationAbbr','Question','Data_Value','Sample_Size','StratificationCategory1','Stratification1']]\n",
    "obese_df = obese_df[obese_df['YearEnd'] == 2020]\n",
    "obese_df = obese_df[obese_df['LocationAbbr'] != 'US']\n",
    "obese_df = obese_df[obese_df['LocationAbbr'] != 'VI']\n",
    "obese_df = obese_df[obese_df['LocationAbbr'] != 'GU']\n",
    "obese_df = obese_df[obese_df['LocationAbbr'] != 'DC']\n",
    "obese_df = obese_df[obese_df['LocationAbbr'] != 'PR']\n",
    "obese_df = obese_df[obese_df['StratificationCategory1'] == 'Total']\n",
    "obese_df = obese_df[obese_df['Question'] == 'Percent of adults aged 18 years and older who have obesity']\n",
    "\n",
    "obese_df.head()"
   ]
  },
  {
   "cell_type": "code",
   "execution_count": 35,
   "id": "580d5c73",
   "metadata": {
    "scrolled": false
   },
   "outputs": [
    {
     "data": {
      "application/vnd.plotly.v1+json": {
       "config": {
        "plotlyServerURL": "https://plot.ly"
       },
       "data": [
        {
         "coloraxis": "coloraxis",
         "geo": "geo",
         "hovertemplate": "<b>%{hovertext}</b><br><br>LocationAbbr=%{location}<br>Data_Value=%{z}<extra></extra>",
         "hovertext": [
          "AK",
          "MD",
          "VA",
          "OK",
          "FL",
          "OR",
          "WA",
          "NY",
          "MN",
          "SD",
          "KS",
          "VT",
          "AZ",
          "KY",
          "PA",
          "IL",
          "WY",
          "MT",
          "OH",
          "TN",
          "DE",
          "ID",
          "MI",
          "NM",
          "NE",
          "LA",
          "ND",
          "NH",
          "MO",
          "RI",
          "WI",
          "IN",
          "AR",
          "MA",
          "NJ",
          "CT",
          "NV",
          "HI",
          "TX",
          "ME",
          "SC",
          "IA",
          "CA",
          "NC",
          "WV",
          "GA",
          "CO",
          "MS",
          "AL",
          "UT"
         ],
         "locationmode": "USA-states",
         "locations": [
          "AK",
          "MD",
          "VA",
          "OK",
          "FL",
          "OR",
          "WA",
          "NY",
          "MN",
          "SD",
          "KS",
          "VT",
          "AZ",
          "KY",
          "PA",
          "IL",
          "WY",
          "MT",
          "OH",
          "TN",
          "DE",
          "ID",
          "MI",
          "NM",
          "NE",
          "LA",
          "ND",
          "NH",
          "MO",
          "RI",
          "WI",
          "IN",
          "AR",
          "MA",
          "NJ",
          "CT",
          "NV",
          "HI",
          "TX",
          "ME",
          "SC",
          "IA",
          "CA",
          "NC",
          "WV",
          "GA",
          "CO",
          "MS",
          "AL",
          "UT"
         ],
         "name": "",
         "type": "choropleth",
         "z": [
          31.9,
          31,
          32.2,
          36.4,
          28.4,
          28.1,
          28,
          26.3,
          30.7,
          33.2,
          35.3,
          26.3,
          30.9,
          36.6,
          31.5,
          32.4,
          30.7,
          28.5,
          35.5,
          35.6,
          36.5,
          31.1,
          35.2,
          30.9,
          34,
          38.1,
          33.1,
          29.9,
          34,
          30.1,
          32.3,
          36.8,
          36.4,
          24.4,
          27.7,
          29.2,
          28.7,
          24.5,
          35.8,
          31,
          36.2,
          36.5,
          30.3,
          33.6,
          39.1,
          34.3,
          24.2,
          39.7,
          39,
          28.6
         ]
        },
        {
         "locationmode": "USA-states",
         "mode": "text",
         "text": [
          "AK",
          "MD",
          "VA",
          "OK",
          "FL",
          "OR",
          "WA",
          "NY",
          "MN",
          "SD",
          "KS",
          "VT",
          "AZ",
          "KY",
          "PA",
          "IL",
          "WY",
          "MT",
          "OH",
          "TN",
          "DE",
          "ID",
          "MI",
          "NM",
          "NE",
          "LA",
          "ND",
          "NH",
          "MO",
          "RI",
          "WI",
          "IN",
          "AR",
          "MA",
          "NJ",
          "CT",
          "NV",
          "HI",
          "TX",
          "ME",
          "SC",
          "IA",
          "CA",
          "NC",
          "WV",
          "GA",
          "CO",
          "MS",
          "AL",
          "UT"
         ],
         "type": "scattergeo"
        }
       ],
       "layout": {
        "coloraxis": {
         "colorbar": {
          "title": {
           "text": "Data_Value"
          }
         },
         "colorscale": [
          [
           0,
           "rgb(94,79,162)"
          ],
          [
           0.1,
           "rgb(50,136,189)"
          ],
          [
           0.2,
           "rgb(102,194,165)"
          ],
          [
           0.3,
           "rgb(171,221,164)"
          ],
          [
           0.4,
           "rgb(230,245,152)"
          ],
          [
           0.5,
           "rgb(255,255,191)"
          ],
          [
           0.6,
           "rgb(254,224,139)"
          ],
          [
           0.7,
           "rgb(253,174,97)"
          ],
          [
           0.8,
           "rgb(244,109,67)"
          ],
          [
           0.9,
           "rgb(213,62,79)"
          ],
          [
           1,
           "rgb(158,1,66)"
          ]
         ]
        },
        "geo": {
         "center": {},
         "domain": {
          "x": [
           0,
           1
          ],
          "y": [
           0,
           1
          ]
         },
         "scope": "usa"
        },
        "legend": {
         "tracegroupgap": 0
        },
        "margin": {
         "t": 60
        },
        "template": {
         "data": {
          "bar": [
           {
            "error_x": {
             "color": "#2a3f5f"
            },
            "error_y": {
             "color": "#2a3f5f"
            },
            "marker": {
             "line": {
              "color": "#E5ECF6",
              "width": 0.5
             },
             "pattern": {
              "fillmode": "overlay",
              "size": 10,
              "solidity": 0.2
             }
            },
            "type": "bar"
           }
          ],
          "barpolar": [
           {
            "marker": {
             "line": {
              "color": "#E5ECF6",
              "width": 0.5
             },
             "pattern": {
              "fillmode": "overlay",
              "size": 10,
              "solidity": 0.2
             }
            },
            "type": "barpolar"
           }
          ],
          "carpet": [
           {
            "aaxis": {
             "endlinecolor": "#2a3f5f",
             "gridcolor": "white",
             "linecolor": "white",
             "minorgridcolor": "white",
             "startlinecolor": "#2a3f5f"
            },
            "baxis": {
             "endlinecolor": "#2a3f5f",
             "gridcolor": "white",
             "linecolor": "white",
             "minorgridcolor": "white",
             "startlinecolor": "#2a3f5f"
            },
            "type": "carpet"
           }
          ],
          "choropleth": [
           {
            "colorbar": {
             "outlinewidth": 0,
             "ticks": ""
            },
            "type": "choropleth"
           }
          ],
          "contour": [
           {
            "colorbar": {
             "outlinewidth": 0,
             "ticks": ""
            },
            "colorscale": [
             [
              0,
              "#0d0887"
             ],
             [
              0.1111111111111111,
              "#46039f"
             ],
             [
              0.2222222222222222,
              "#7201a8"
             ],
             [
              0.3333333333333333,
              "#9c179e"
             ],
             [
              0.4444444444444444,
              "#bd3786"
             ],
             [
              0.5555555555555556,
              "#d8576b"
             ],
             [
              0.6666666666666666,
              "#ed7953"
             ],
             [
              0.7777777777777778,
              "#fb9f3a"
             ],
             [
              0.8888888888888888,
              "#fdca26"
             ],
             [
              1,
              "#f0f921"
             ]
            ],
            "type": "contour"
           }
          ],
          "contourcarpet": [
           {
            "colorbar": {
             "outlinewidth": 0,
             "ticks": ""
            },
            "type": "contourcarpet"
           }
          ],
          "heatmap": [
           {
            "colorbar": {
             "outlinewidth": 0,
             "ticks": ""
            },
            "colorscale": [
             [
              0,
              "#0d0887"
             ],
             [
              0.1111111111111111,
              "#46039f"
             ],
             [
              0.2222222222222222,
              "#7201a8"
             ],
             [
              0.3333333333333333,
              "#9c179e"
             ],
             [
              0.4444444444444444,
              "#bd3786"
             ],
             [
              0.5555555555555556,
              "#d8576b"
             ],
             [
              0.6666666666666666,
              "#ed7953"
             ],
             [
              0.7777777777777778,
              "#fb9f3a"
             ],
             [
              0.8888888888888888,
              "#fdca26"
             ],
             [
              1,
              "#f0f921"
             ]
            ],
            "type": "heatmap"
           }
          ],
          "heatmapgl": [
           {
            "colorbar": {
             "outlinewidth": 0,
             "ticks": ""
            },
            "colorscale": [
             [
              0,
              "#0d0887"
             ],
             [
              0.1111111111111111,
              "#46039f"
             ],
             [
              0.2222222222222222,
              "#7201a8"
             ],
             [
              0.3333333333333333,
              "#9c179e"
             ],
             [
              0.4444444444444444,
              "#bd3786"
             ],
             [
              0.5555555555555556,
              "#d8576b"
             ],
             [
              0.6666666666666666,
              "#ed7953"
             ],
             [
              0.7777777777777778,
              "#fb9f3a"
             ],
             [
              0.8888888888888888,
              "#fdca26"
             ],
             [
              1,
              "#f0f921"
             ]
            ],
            "type": "heatmapgl"
           }
          ],
          "histogram": [
           {
            "marker": {
             "pattern": {
              "fillmode": "overlay",
              "size": 10,
              "solidity": 0.2
             }
            },
            "type": "histogram"
           }
          ],
          "histogram2d": [
           {
            "colorbar": {
             "outlinewidth": 0,
             "ticks": ""
            },
            "colorscale": [
             [
              0,
              "#0d0887"
             ],
             [
              0.1111111111111111,
              "#46039f"
             ],
             [
              0.2222222222222222,
              "#7201a8"
             ],
             [
              0.3333333333333333,
              "#9c179e"
             ],
             [
              0.4444444444444444,
              "#bd3786"
             ],
             [
              0.5555555555555556,
              "#d8576b"
             ],
             [
              0.6666666666666666,
              "#ed7953"
             ],
             [
              0.7777777777777778,
              "#fb9f3a"
             ],
             [
              0.8888888888888888,
              "#fdca26"
             ],
             [
              1,
              "#f0f921"
             ]
            ],
            "type": "histogram2d"
           }
          ],
          "histogram2dcontour": [
           {
            "colorbar": {
             "outlinewidth": 0,
             "ticks": ""
            },
            "colorscale": [
             [
              0,
              "#0d0887"
             ],
             [
              0.1111111111111111,
              "#46039f"
             ],
             [
              0.2222222222222222,
              "#7201a8"
             ],
             [
              0.3333333333333333,
              "#9c179e"
             ],
             [
              0.4444444444444444,
              "#bd3786"
             ],
             [
              0.5555555555555556,
              "#d8576b"
             ],
             [
              0.6666666666666666,
              "#ed7953"
             ],
             [
              0.7777777777777778,
              "#fb9f3a"
             ],
             [
              0.8888888888888888,
              "#fdca26"
             ],
             [
              1,
              "#f0f921"
             ]
            ],
            "type": "histogram2dcontour"
           }
          ],
          "mesh3d": [
           {
            "colorbar": {
             "outlinewidth": 0,
             "ticks": ""
            },
            "type": "mesh3d"
           }
          ],
          "parcoords": [
           {
            "line": {
             "colorbar": {
              "outlinewidth": 0,
              "ticks": ""
             }
            },
            "type": "parcoords"
           }
          ],
          "pie": [
           {
            "automargin": true,
            "type": "pie"
           }
          ],
          "scatter": [
           {
            "fillpattern": {
             "fillmode": "overlay",
             "size": 10,
             "solidity": 0.2
            },
            "type": "scatter"
           }
          ],
          "scatter3d": [
           {
            "line": {
             "colorbar": {
              "outlinewidth": 0,
              "ticks": ""
             }
            },
            "marker": {
             "colorbar": {
              "outlinewidth": 0,
              "ticks": ""
             }
            },
            "type": "scatter3d"
           }
          ],
          "scattercarpet": [
           {
            "marker": {
             "colorbar": {
              "outlinewidth": 0,
              "ticks": ""
             }
            },
            "type": "scattercarpet"
           }
          ],
          "scattergeo": [
           {
            "marker": {
             "colorbar": {
              "outlinewidth": 0,
              "ticks": ""
             }
            },
            "type": "scattergeo"
           }
          ],
          "scattergl": [
           {
            "marker": {
             "colorbar": {
              "outlinewidth": 0,
              "ticks": ""
             }
            },
            "type": "scattergl"
           }
          ],
          "scattermapbox": [
           {
            "marker": {
             "colorbar": {
              "outlinewidth": 0,
              "ticks": ""
             }
            },
            "type": "scattermapbox"
           }
          ],
          "scatterpolar": [
           {
            "marker": {
             "colorbar": {
              "outlinewidth": 0,
              "ticks": ""
             }
            },
            "type": "scatterpolar"
           }
          ],
          "scatterpolargl": [
           {
            "marker": {
             "colorbar": {
              "outlinewidth": 0,
              "ticks": ""
             }
            },
            "type": "scatterpolargl"
           }
          ],
          "scatterternary": [
           {
            "marker": {
             "colorbar": {
              "outlinewidth": 0,
              "ticks": ""
             }
            },
            "type": "scatterternary"
           }
          ],
          "surface": [
           {
            "colorbar": {
             "outlinewidth": 0,
             "ticks": ""
            },
            "colorscale": [
             [
              0,
              "#0d0887"
             ],
             [
              0.1111111111111111,
              "#46039f"
             ],
             [
              0.2222222222222222,
              "#7201a8"
             ],
             [
              0.3333333333333333,
              "#9c179e"
             ],
             [
              0.4444444444444444,
              "#bd3786"
             ],
             [
              0.5555555555555556,
              "#d8576b"
             ],
             [
              0.6666666666666666,
              "#ed7953"
             ],
             [
              0.7777777777777778,
              "#fb9f3a"
             ],
             [
              0.8888888888888888,
              "#fdca26"
             ],
             [
              1,
              "#f0f921"
             ]
            ],
            "type": "surface"
           }
          ],
          "table": [
           {
            "cells": {
             "fill": {
              "color": "#EBF0F8"
             },
             "line": {
              "color": "white"
             }
            },
            "header": {
             "fill": {
              "color": "#C8D4E3"
             },
             "line": {
              "color": "white"
             }
            },
            "type": "table"
           }
          ]
         },
         "layout": {
          "annotationdefaults": {
           "arrowcolor": "#2a3f5f",
           "arrowhead": 0,
           "arrowwidth": 1
          },
          "autotypenumbers": "strict",
          "coloraxis": {
           "colorbar": {
            "outlinewidth": 0,
            "ticks": ""
           }
          },
          "colorscale": {
           "diverging": [
            [
             0,
             "#8e0152"
            ],
            [
             0.1,
             "#c51b7d"
            ],
            [
             0.2,
             "#de77ae"
            ],
            [
             0.3,
             "#f1b6da"
            ],
            [
             0.4,
             "#fde0ef"
            ],
            [
             0.5,
             "#f7f7f7"
            ],
            [
             0.6,
             "#e6f5d0"
            ],
            [
             0.7,
             "#b8e186"
            ],
            [
             0.8,
             "#7fbc41"
            ],
            [
             0.9,
             "#4d9221"
            ],
            [
             1,
             "#276419"
            ]
           ],
           "sequential": [
            [
             0,
             "#0d0887"
            ],
            [
             0.1111111111111111,
             "#46039f"
            ],
            [
             0.2222222222222222,
             "#7201a8"
            ],
            [
             0.3333333333333333,
             "#9c179e"
            ],
            [
             0.4444444444444444,
             "#bd3786"
            ],
            [
             0.5555555555555556,
             "#d8576b"
            ],
            [
             0.6666666666666666,
             "#ed7953"
            ],
            [
             0.7777777777777778,
             "#fb9f3a"
            ],
            [
             0.8888888888888888,
             "#fdca26"
            ],
            [
             1,
             "#f0f921"
            ]
           ],
           "sequentialminus": [
            [
             0,
             "#0d0887"
            ],
            [
             0.1111111111111111,
             "#46039f"
            ],
            [
             0.2222222222222222,
             "#7201a8"
            ],
            [
             0.3333333333333333,
             "#9c179e"
            ],
            [
             0.4444444444444444,
             "#bd3786"
            ],
            [
             0.5555555555555556,
             "#d8576b"
            ],
            [
             0.6666666666666666,
             "#ed7953"
            ],
            [
             0.7777777777777778,
             "#fb9f3a"
            ],
            [
             0.8888888888888888,
             "#fdca26"
            ],
            [
             1,
             "#f0f921"
            ]
           ]
          },
          "colorway": [
           "#636efa",
           "#EF553B",
           "#00cc96",
           "#ab63fa",
           "#FFA15A",
           "#19d3f3",
           "#FF6692",
           "#B6E880",
           "#FF97FF",
           "#FECB52"
          ],
          "font": {
           "color": "#2a3f5f"
          },
          "geo": {
           "bgcolor": "white",
           "lakecolor": "white",
           "landcolor": "#E5ECF6",
           "showlakes": true,
           "showland": true,
           "subunitcolor": "white"
          },
          "hoverlabel": {
           "align": "left"
          },
          "hovermode": "closest",
          "mapbox": {
           "style": "light"
          },
          "paper_bgcolor": "white",
          "plot_bgcolor": "#E5ECF6",
          "polar": {
           "angularaxis": {
            "gridcolor": "white",
            "linecolor": "white",
            "ticks": ""
           },
           "bgcolor": "#E5ECF6",
           "radialaxis": {
            "gridcolor": "white",
            "linecolor": "white",
            "ticks": ""
           }
          },
          "scene": {
           "xaxis": {
            "backgroundcolor": "#E5ECF6",
            "gridcolor": "white",
            "gridwidth": 2,
            "linecolor": "white",
            "showbackground": true,
            "ticks": "",
            "zerolinecolor": "white"
           },
           "yaxis": {
            "backgroundcolor": "#E5ECF6",
            "gridcolor": "white",
            "gridwidth": 2,
            "linecolor": "white",
            "showbackground": true,
            "ticks": "",
            "zerolinecolor": "white"
           },
           "zaxis": {
            "backgroundcolor": "#E5ECF6",
            "gridcolor": "white",
            "gridwidth": 2,
            "linecolor": "white",
            "showbackground": true,
            "ticks": "",
            "zerolinecolor": "white"
           }
          },
          "shapedefaults": {
           "line": {
            "color": "#2a3f5f"
           }
          },
          "ternary": {
           "aaxis": {
            "gridcolor": "white",
            "linecolor": "white",
            "ticks": ""
           },
           "baxis": {
            "gridcolor": "white",
            "linecolor": "white",
            "ticks": ""
           },
           "bgcolor": "#E5ECF6",
           "caxis": {
            "gridcolor": "white",
            "linecolor": "white",
            "ticks": ""
           }
          },
          "title": {
           "x": 0.05
          },
          "xaxis": {
           "automargin": true,
           "gridcolor": "white",
           "linecolor": "white",
           "ticks": "",
           "title": {
            "standoff": 15
           },
           "zerolinecolor": "white",
           "zerolinewidth": 2
          },
          "yaxis": {
           "automargin": true,
           "gridcolor": "white",
           "linecolor": "white",
           "ticks": "",
           "title": {
            "standoff": 15
           },
           "zerolinecolor": "white",
           "zerolinewidth": 2
          }
         }
        },
        "title": {
         "text": "2020 Obesity Rates %",
         "x": 0.5,
         "xanchor": "center",
         "yanchor": "top"
        }
       }
      },
      "text/html": [
       "<div>                            <div id=\"ac6b4e01-1881-4e13-8be0-2b451c4b0ce9\" class=\"plotly-graph-div\" style=\"height:525px; width:100%;\"></div>            <script type=\"text/javascript\">                require([\"plotly\"], function(Plotly) {                    window.PLOTLYENV=window.PLOTLYENV || {};                                    if (document.getElementById(\"ac6b4e01-1881-4e13-8be0-2b451c4b0ce9\")) {                    Plotly.newPlot(                        \"ac6b4e01-1881-4e13-8be0-2b451c4b0ce9\",                        [{\"coloraxis\":\"coloraxis\",\"geo\":\"geo\",\"hovertemplate\":\"<b>%{hovertext}</b><br><br>LocationAbbr=%{location}<br>Data_Value=%{z}<extra></extra>\",\"hovertext\":[\"AK\",\"MD\",\"VA\",\"OK\",\"FL\",\"OR\",\"WA\",\"NY\",\"MN\",\"SD\",\"KS\",\"VT\",\"AZ\",\"KY\",\"PA\",\"IL\",\"WY\",\"MT\",\"OH\",\"TN\",\"DE\",\"ID\",\"MI\",\"NM\",\"NE\",\"LA\",\"ND\",\"NH\",\"MO\",\"RI\",\"WI\",\"IN\",\"AR\",\"MA\",\"NJ\",\"CT\",\"NV\",\"HI\",\"TX\",\"ME\",\"SC\",\"IA\",\"CA\",\"NC\",\"WV\",\"GA\",\"CO\",\"MS\",\"AL\",\"UT\"],\"locationmode\":\"USA-states\",\"locations\":[\"AK\",\"MD\",\"VA\",\"OK\",\"FL\",\"OR\",\"WA\",\"NY\",\"MN\",\"SD\",\"KS\",\"VT\",\"AZ\",\"KY\",\"PA\",\"IL\",\"WY\",\"MT\",\"OH\",\"TN\",\"DE\",\"ID\",\"MI\",\"NM\",\"NE\",\"LA\",\"ND\",\"NH\",\"MO\",\"RI\",\"WI\",\"IN\",\"AR\",\"MA\",\"NJ\",\"CT\",\"NV\",\"HI\",\"TX\",\"ME\",\"SC\",\"IA\",\"CA\",\"NC\",\"WV\",\"GA\",\"CO\",\"MS\",\"AL\",\"UT\"],\"name\":\"\",\"z\":[31.9,31.0,32.2,36.4,28.4,28.1,28.0,26.3,30.7,33.2,35.3,26.3,30.9,36.6,31.5,32.4,30.7,28.5,35.5,35.6,36.5,31.1,35.2,30.9,34.0,38.1,33.1,29.9,34.0,30.1,32.3,36.8,36.4,24.4,27.7,29.2,28.7,24.5,35.8,31.0,36.2,36.5,30.3,33.6,39.1,34.3,24.2,39.7,39.0,28.6],\"type\":\"choropleth\"},{\"locationmode\":\"USA-states\",\"mode\":\"text\",\"text\":[\"AK\",\"MD\",\"VA\",\"OK\",\"FL\",\"OR\",\"WA\",\"NY\",\"MN\",\"SD\",\"KS\",\"VT\",\"AZ\",\"KY\",\"PA\",\"IL\",\"WY\",\"MT\",\"OH\",\"TN\",\"DE\",\"ID\",\"MI\",\"NM\",\"NE\",\"LA\",\"ND\",\"NH\",\"MO\",\"RI\",\"WI\",\"IN\",\"AR\",\"MA\",\"NJ\",\"CT\",\"NV\",\"HI\",\"TX\",\"ME\",\"SC\",\"IA\",\"CA\",\"NC\",\"WV\",\"GA\",\"CO\",\"MS\",\"AL\",\"UT\"],\"type\":\"scattergeo\"}],                        {\"template\":{\"data\":{\"histogram2dcontour\":[{\"type\":\"histogram2dcontour\",\"colorbar\":{\"outlinewidth\":0,\"ticks\":\"\"},\"colorscale\":[[0.0,\"#0d0887\"],[0.1111111111111111,\"#46039f\"],[0.2222222222222222,\"#7201a8\"],[0.3333333333333333,\"#9c179e\"],[0.4444444444444444,\"#bd3786\"],[0.5555555555555556,\"#d8576b\"],[0.6666666666666666,\"#ed7953\"],[0.7777777777777778,\"#fb9f3a\"],[0.8888888888888888,\"#fdca26\"],[1.0,\"#f0f921\"]]}],\"choropleth\":[{\"type\":\"choropleth\",\"colorbar\":{\"outlinewidth\":0,\"ticks\":\"\"}}],\"histogram2d\":[{\"type\":\"histogram2d\",\"colorbar\":{\"outlinewidth\":0,\"ticks\":\"\"},\"colorscale\":[[0.0,\"#0d0887\"],[0.1111111111111111,\"#46039f\"],[0.2222222222222222,\"#7201a8\"],[0.3333333333333333,\"#9c179e\"],[0.4444444444444444,\"#bd3786\"],[0.5555555555555556,\"#d8576b\"],[0.6666666666666666,\"#ed7953\"],[0.7777777777777778,\"#fb9f3a\"],[0.8888888888888888,\"#fdca26\"],[1.0,\"#f0f921\"]]}],\"heatmap\":[{\"type\":\"heatmap\",\"colorbar\":{\"outlinewidth\":0,\"ticks\":\"\"},\"colorscale\":[[0.0,\"#0d0887\"],[0.1111111111111111,\"#46039f\"],[0.2222222222222222,\"#7201a8\"],[0.3333333333333333,\"#9c179e\"],[0.4444444444444444,\"#bd3786\"],[0.5555555555555556,\"#d8576b\"],[0.6666666666666666,\"#ed7953\"],[0.7777777777777778,\"#fb9f3a\"],[0.8888888888888888,\"#fdca26\"],[1.0,\"#f0f921\"]]}],\"heatmapgl\":[{\"type\":\"heatmapgl\",\"colorbar\":{\"outlinewidth\":0,\"ticks\":\"\"},\"colorscale\":[[0.0,\"#0d0887\"],[0.1111111111111111,\"#46039f\"],[0.2222222222222222,\"#7201a8\"],[0.3333333333333333,\"#9c179e\"],[0.4444444444444444,\"#bd3786\"],[0.5555555555555556,\"#d8576b\"],[0.6666666666666666,\"#ed7953\"],[0.7777777777777778,\"#fb9f3a\"],[0.8888888888888888,\"#fdca26\"],[1.0,\"#f0f921\"]]}],\"contourcarpet\":[{\"type\":\"contourcarpet\",\"colorbar\":{\"outlinewidth\":0,\"ticks\":\"\"}}],\"contour\":[{\"type\":\"contour\",\"colorbar\":{\"outlinewidth\":0,\"ticks\":\"\"},\"colorscale\":[[0.0,\"#0d0887\"],[0.1111111111111111,\"#46039f\"],[0.2222222222222222,\"#7201a8\"],[0.3333333333333333,\"#9c179e\"],[0.4444444444444444,\"#bd3786\"],[0.5555555555555556,\"#d8576b\"],[0.6666666666666666,\"#ed7953\"],[0.7777777777777778,\"#fb9f3a\"],[0.8888888888888888,\"#fdca26\"],[1.0,\"#f0f921\"]]}],\"surface\":[{\"type\":\"surface\",\"colorbar\":{\"outlinewidth\":0,\"ticks\":\"\"},\"colorscale\":[[0.0,\"#0d0887\"],[0.1111111111111111,\"#46039f\"],[0.2222222222222222,\"#7201a8\"],[0.3333333333333333,\"#9c179e\"],[0.4444444444444444,\"#bd3786\"],[0.5555555555555556,\"#d8576b\"],[0.6666666666666666,\"#ed7953\"],[0.7777777777777778,\"#fb9f3a\"],[0.8888888888888888,\"#fdca26\"],[1.0,\"#f0f921\"]]}],\"mesh3d\":[{\"type\":\"mesh3d\",\"colorbar\":{\"outlinewidth\":0,\"ticks\":\"\"}}],\"scatter\":[{\"fillpattern\":{\"fillmode\":\"overlay\",\"size\":10,\"solidity\":0.2},\"type\":\"scatter\"}],\"parcoords\":[{\"type\":\"parcoords\",\"line\":{\"colorbar\":{\"outlinewidth\":0,\"ticks\":\"\"}}}],\"scatterpolargl\":[{\"type\":\"scatterpolargl\",\"marker\":{\"colorbar\":{\"outlinewidth\":0,\"ticks\":\"\"}}}],\"bar\":[{\"error_x\":{\"color\":\"#2a3f5f\"},\"error_y\":{\"color\":\"#2a3f5f\"},\"marker\":{\"line\":{\"color\":\"#E5ECF6\",\"width\":0.5},\"pattern\":{\"fillmode\":\"overlay\",\"size\":10,\"solidity\":0.2}},\"type\":\"bar\"}],\"scattergeo\":[{\"type\":\"scattergeo\",\"marker\":{\"colorbar\":{\"outlinewidth\":0,\"ticks\":\"\"}}}],\"scatterpolar\":[{\"type\":\"scatterpolar\",\"marker\":{\"colorbar\":{\"outlinewidth\":0,\"ticks\":\"\"}}}],\"histogram\":[{\"marker\":{\"pattern\":{\"fillmode\":\"overlay\",\"size\":10,\"solidity\":0.2}},\"type\":\"histogram\"}],\"scattergl\":[{\"type\":\"scattergl\",\"marker\":{\"colorbar\":{\"outlinewidth\":0,\"ticks\":\"\"}}}],\"scatter3d\":[{\"type\":\"scatter3d\",\"line\":{\"colorbar\":{\"outlinewidth\":0,\"ticks\":\"\"}},\"marker\":{\"colorbar\":{\"outlinewidth\":0,\"ticks\":\"\"}}}],\"scattermapbox\":[{\"type\":\"scattermapbox\",\"marker\":{\"colorbar\":{\"outlinewidth\":0,\"ticks\":\"\"}}}],\"scatterternary\":[{\"type\":\"scatterternary\",\"marker\":{\"colorbar\":{\"outlinewidth\":0,\"ticks\":\"\"}}}],\"scattercarpet\":[{\"type\":\"scattercarpet\",\"marker\":{\"colorbar\":{\"outlinewidth\":0,\"ticks\":\"\"}}}],\"carpet\":[{\"aaxis\":{\"endlinecolor\":\"#2a3f5f\",\"gridcolor\":\"white\",\"linecolor\":\"white\",\"minorgridcolor\":\"white\",\"startlinecolor\":\"#2a3f5f\"},\"baxis\":{\"endlinecolor\":\"#2a3f5f\",\"gridcolor\":\"white\",\"linecolor\":\"white\",\"minorgridcolor\":\"white\",\"startlinecolor\":\"#2a3f5f\"},\"type\":\"carpet\"}],\"table\":[{\"cells\":{\"fill\":{\"color\":\"#EBF0F8\"},\"line\":{\"color\":\"white\"}},\"header\":{\"fill\":{\"color\":\"#C8D4E3\"},\"line\":{\"color\":\"white\"}},\"type\":\"table\"}],\"barpolar\":[{\"marker\":{\"line\":{\"color\":\"#E5ECF6\",\"width\":0.5},\"pattern\":{\"fillmode\":\"overlay\",\"size\":10,\"solidity\":0.2}},\"type\":\"barpolar\"}],\"pie\":[{\"automargin\":true,\"type\":\"pie\"}]},\"layout\":{\"autotypenumbers\":\"strict\",\"colorway\":[\"#636efa\",\"#EF553B\",\"#00cc96\",\"#ab63fa\",\"#FFA15A\",\"#19d3f3\",\"#FF6692\",\"#B6E880\",\"#FF97FF\",\"#FECB52\"],\"font\":{\"color\":\"#2a3f5f\"},\"hovermode\":\"closest\",\"hoverlabel\":{\"align\":\"left\"},\"paper_bgcolor\":\"white\",\"plot_bgcolor\":\"#E5ECF6\",\"polar\":{\"bgcolor\":\"#E5ECF6\",\"angularaxis\":{\"gridcolor\":\"white\",\"linecolor\":\"white\",\"ticks\":\"\"},\"radialaxis\":{\"gridcolor\":\"white\",\"linecolor\":\"white\",\"ticks\":\"\"}},\"ternary\":{\"bgcolor\":\"#E5ECF6\",\"aaxis\":{\"gridcolor\":\"white\",\"linecolor\":\"white\",\"ticks\":\"\"},\"baxis\":{\"gridcolor\":\"white\",\"linecolor\":\"white\",\"ticks\":\"\"},\"caxis\":{\"gridcolor\":\"white\",\"linecolor\":\"white\",\"ticks\":\"\"}},\"coloraxis\":{\"colorbar\":{\"outlinewidth\":0,\"ticks\":\"\"}},\"colorscale\":{\"sequential\":[[0.0,\"#0d0887\"],[0.1111111111111111,\"#46039f\"],[0.2222222222222222,\"#7201a8\"],[0.3333333333333333,\"#9c179e\"],[0.4444444444444444,\"#bd3786\"],[0.5555555555555556,\"#d8576b\"],[0.6666666666666666,\"#ed7953\"],[0.7777777777777778,\"#fb9f3a\"],[0.8888888888888888,\"#fdca26\"],[1.0,\"#f0f921\"]],\"sequentialminus\":[[0.0,\"#0d0887\"],[0.1111111111111111,\"#46039f\"],[0.2222222222222222,\"#7201a8\"],[0.3333333333333333,\"#9c179e\"],[0.4444444444444444,\"#bd3786\"],[0.5555555555555556,\"#d8576b\"],[0.6666666666666666,\"#ed7953\"],[0.7777777777777778,\"#fb9f3a\"],[0.8888888888888888,\"#fdca26\"],[1.0,\"#f0f921\"]],\"diverging\":[[0,\"#8e0152\"],[0.1,\"#c51b7d\"],[0.2,\"#de77ae\"],[0.3,\"#f1b6da\"],[0.4,\"#fde0ef\"],[0.5,\"#f7f7f7\"],[0.6,\"#e6f5d0\"],[0.7,\"#b8e186\"],[0.8,\"#7fbc41\"],[0.9,\"#4d9221\"],[1,\"#276419\"]]},\"xaxis\":{\"gridcolor\":\"white\",\"linecolor\":\"white\",\"ticks\":\"\",\"title\":{\"standoff\":15},\"zerolinecolor\":\"white\",\"automargin\":true,\"zerolinewidth\":2},\"yaxis\":{\"gridcolor\":\"white\",\"linecolor\":\"white\",\"ticks\":\"\",\"title\":{\"standoff\":15},\"zerolinecolor\":\"white\",\"automargin\":true,\"zerolinewidth\":2},\"scene\":{\"xaxis\":{\"backgroundcolor\":\"#E5ECF6\",\"gridcolor\":\"white\",\"linecolor\":\"white\",\"showbackground\":true,\"ticks\":\"\",\"zerolinecolor\":\"white\",\"gridwidth\":2},\"yaxis\":{\"backgroundcolor\":\"#E5ECF6\",\"gridcolor\":\"white\",\"linecolor\":\"white\",\"showbackground\":true,\"ticks\":\"\",\"zerolinecolor\":\"white\",\"gridwidth\":2},\"zaxis\":{\"backgroundcolor\":\"#E5ECF6\",\"gridcolor\":\"white\",\"linecolor\":\"white\",\"showbackground\":true,\"ticks\":\"\",\"zerolinecolor\":\"white\",\"gridwidth\":2}},\"shapedefaults\":{\"line\":{\"color\":\"#2a3f5f\"}},\"annotationdefaults\":{\"arrowcolor\":\"#2a3f5f\",\"arrowhead\":0,\"arrowwidth\":1},\"geo\":{\"bgcolor\":\"white\",\"landcolor\":\"#E5ECF6\",\"subunitcolor\":\"white\",\"showland\":true,\"showlakes\":true,\"lakecolor\":\"white\"},\"title\":{\"x\":0.05},\"mapbox\":{\"style\":\"light\"}}},\"geo\":{\"domain\":{\"x\":[0.0,1.0],\"y\":[0.0,1.0]},\"center\":{},\"scope\":\"usa\"},\"coloraxis\":{\"colorbar\":{\"title\":{\"text\":\"Data_Value\"}},\"colorscale\":[[0.0,\"rgb(94,79,162)\"],[0.1,\"rgb(50,136,189)\"],[0.2,\"rgb(102,194,165)\"],[0.3,\"rgb(171,221,164)\"],[0.4,\"rgb(230,245,152)\"],[0.5,\"rgb(255,255,191)\"],[0.6,\"rgb(254,224,139)\"],[0.7,\"rgb(253,174,97)\"],[0.8,\"rgb(244,109,67)\"],[0.9,\"rgb(213,62,79)\"],[1.0,\"rgb(158,1,66)\"]]},\"legend\":{\"tracegroupgap\":0},\"margin\":{\"t\":60},\"title\":{\"text\":\"2020 Obesity Rates %\",\"xanchor\":\"center\",\"yanchor\":\"top\",\"x\":0.5}},                        {\"responsive\": true}                    ).then(function(){\n",
       "                            \n",
       "var gd = document.getElementById('ac6b4e01-1881-4e13-8be0-2b451c4b0ce9');\n",
       "var x = new MutationObserver(function (mutations, observer) {{\n",
       "        var display = window.getComputedStyle(gd).display;\n",
       "        if (!display || display === 'none') {{\n",
       "            console.log([gd, 'removed!']);\n",
       "            Plotly.purge(gd);\n",
       "            observer.disconnect();\n",
       "        }}\n",
       "}});\n",
       "\n",
       "// Listen for the removal of the full notebook cells\n",
       "var notebookContainer = gd.closest('#notebook-container');\n",
       "if (notebookContainer) {{\n",
       "    x.observe(notebookContainer, {childList: true});\n",
       "}}\n",
       "\n",
       "// Listen for the clearing of the current output cell\n",
       "var outputEl = gd.closest('.output');\n",
       "if (outputEl) {{\n",
       "    x.observe(outputEl, {childList: true});\n",
       "}}\n",
       "\n",
       "                        })                };                });            </script>        </div>"
      ]
     },
     "metadata": {},
     "output_type": "display_data"
    }
   ],
   "source": [
    "#fig = px.choropleth(locations=obese_df['LocationAbbr'], locationmode=\"USA-states\", color=obese_df['Data_Value'], scope=\"usa\",color_continuous_scale='spectral_r')\n",
    "\n",
    "fig = px.choropleth(obese_df,\n",
    "                    locations= obese_df['LocationAbbr'],\n",
    "                    color= obese_df['Data_Value'],\n",
    "                    color_continuous_scale='spectral_r',\n",
    "                    hover_name=obese_df['LocationAbbr'],\n",
    "                    locationmode='USA-states',\n",
    "                    #labels={'Current Unemployment Rate':'Unemployment Rate %'},\n",
    "                    scope='usa')\n",
    "\n",
    "fig.add_scattergeo(\n",
    "    #locations=obese_df['LocationAbbr'],\n",
    "    locationmode='USA-states',\n",
    "    text=obese_df['LocationAbbr'],\n",
    "    mode='text')\n",
    "\n",
    "fig.update_layout(\n",
    "    title={'text':'2020 Obesity Rates %',\n",
    "           'xanchor':'center',\n",
    "           'yanchor':'top',\n",
    "           'x':0.5})\n",
    "\n",
    "fig.show()"
   ]
  },
  {
   "cell_type": "code",
   "execution_count": 36,
   "id": "26f42cd0",
   "metadata": {},
   "outputs": [
    {
     "name": "stdout",
     "output_type": "stream",
     "text": [
      "['Total']\n"
     ]
    }
   ],
   "source": [
    "list_of_questions = obese_df['StratificationCategory1'].unique()\n",
    "print(sorted(list_of_questions))"
   ]
  },
  {
   "cell_type": "code",
   "execution_count": 37,
   "id": "508f190d",
   "metadata": {},
   "outputs": [
    {
     "data": {
      "text/html": [
       "<div>\n",
       "<style scoped>\n",
       "    .dataframe tbody tr th:only-of-type {\n",
       "        vertical-align: middle;\n",
       "    }\n",
       "\n",
       "    .dataframe tbody tr th {\n",
       "        vertical-align: top;\n",
       "    }\n",
       "\n",
       "    .dataframe thead th {\n",
       "        text-align: right;\n",
       "    }\n",
       "</style>\n",
       "<table border=\"1\" class=\"dataframe\">\n",
       "  <thead>\n",
       "    <tr style=\"text-align: right;\">\n",
       "      <th></th>\n",
       "      <th>YearEnd</th>\n",
       "      <th>LocationAbbr</th>\n",
       "      <th>Question</th>\n",
       "      <th>Data_Value</th>\n",
       "      <th>Sample_Size</th>\n",
       "      <th>StratificationCategory1</th>\n",
       "      <th>Stratification1</th>\n",
       "    </tr>\n",
       "  </thead>\n",
       "  <tbody>\n",
       "    <tr>\n",
       "      <th>3149</th>\n",
       "      <td>2011</td>\n",
       "      <td>US</td>\n",
       "      <td>Percent of adults aged 18 years and older who ...</td>\n",
       "      <td>27.4</td>\n",
       "      <td>470700.0</td>\n",
       "      <td>Total</td>\n",
       "      <td>Total</td>\n",
       "    </tr>\n",
       "    <tr>\n",
       "      <th>10470</th>\n",
       "      <td>2012</td>\n",
       "      <td>US</td>\n",
       "      <td>Percent of adults aged 18 years and older who ...</td>\n",
       "      <td>27.7</td>\n",
       "      <td>442230.0</td>\n",
       "      <td>Total</td>\n",
       "      <td>Total</td>\n",
       "    </tr>\n",
       "    <tr>\n",
       "      <th>7611</th>\n",
       "      <td>2013</td>\n",
       "      <td>US</td>\n",
       "      <td>Percent of adults aged 18 years and older who ...</td>\n",
       "      <td>28.3</td>\n",
       "      <td>457487.0</td>\n",
       "      <td>Total</td>\n",
       "      <td>Total</td>\n",
       "    </tr>\n",
       "    <tr>\n",
       "      <th>1069</th>\n",
       "      <td>2014</td>\n",
       "      <td>US</td>\n",
       "      <td>Percent of adults aged 18 years and older who ...</td>\n",
       "      <td>28.9</td>\n",
       "      <td>425875.0</td>\n",
       "      <td>Total</td>\n",
       "      <td>Total</td>\n",
       "    </tr>\n",
       "    <tr>\n",
       "      <th>2487</th>\n",
       "      <td>2015</td>\n",
       "      <td>US</td>\n",
       "      <td>Percent of adults aged 18 years and older who ...</td>\n",
       "      <td>28.9</td>\n",
       "      <td>398316.0</td>\n",
       "      <td>Total</td>\n",
       "      <td>Total</td>\n",
       "    </tr>\n",
       "    <tr>\n",
       "      <th>78790</th>\n",
       "      <td>2016</td>\n",
       "      <td>US</td>\n",
       "      <td>Percent of adults aged 18 years and older who ...</td>\n",
       "      <td>29.6</td>\n",
       "      <td>438479.0</td>\n",
       "      <td>Total</td>\n",
       "      <td>Total</td>\n",
       "    </tr>\n",
       "    <tr>\n",
       "      <th>14524</th>\n",
       "      <td>2017</td>\n",
       "      <td>US</td>\n",
       "      <td>Percent of adults aged 18 years and older who ...</td>\n",
       "      <td>30.1</td>\n",
       "      <td>408448.0</td>\n",
       "      <td>Total</td>\n",
       "      <td>Total</td>\n",
       "    </tr>\n",
       "    <tr>\n",
       "      <th>4405</th>\n",
       "      <td>2018</td>\n",
       "      <td>US</td>\n",
       "      <td>Percent of adults aged 18 years and older who ...</td>\n",
       "      <td>30.9</td>\n",
       "      <td>396022.0</td>\n",
       "      <td>Total</td>\n",
       "      <td>Total</td>\n",
       "    </tr>\n",
       "    <tr>\n",
       "      <th>49654</th>\n",
       "      <td>2019</td>\n",
       "      <td>US</td>\n",
       "      <td>Percent of adults aged 18 years and older who ...</td>\n",
       "      <td>31.4</td>\n",
       "      <td>374073.0</td>\n",
       "      <td>Total</td>\n",
       "      <td>Total</td>\n",
       "    </tr>\n",
       "    <tr>\n",
       "      <th>9355</th>\n",
       "      <td>2020</td>\n",
       "      <td>US</td>\n",
       "      <td>Percent of adults aged 18 years and older who ...</td>\n",
       "      <td>31.9</td>\n",
       "      <td>353841.0</td>\n",
       "      <td>Total</td>\n",
       "      <td>Total</td>\n",
       "    </tr>\n",
       "    <tr>\n",
       "      <th>84975</th>\n",
       "      <td>2021</td>\n",
       "      <td>US</td>\n",
       "      <td>Percent of adults aged 18 years and older who ...</td>\n",
       "      <td>33.0</td>\n",
       "      <td>385204.0</td>\n",
       "      <td>Total</td>\n",
       "      <td>Total</td>\n",
       "    </tr>\n",
       "  </tbody>\n",
       "</table>\n",
       "</div>"
      ],
      "text/plain": [
       "       YearEnd LocationAbbr  \\\n",
       "3149      2011           US   \n",
       "10470     2012           US   \n",
       "7611      2013           US   \n",
       "1069      2014           US   \n",
       "2487      2015           US   \n",
       "78790     2016           US   \n",
       "14524     2017           US   \n",
       "4405      2018           US   \n",
       "49654     2019           US   \n",
       "9355      2020           US   \n",
       "84975     2021           US   \n",
       "\n",
       "                                                Question  Data_Value  \\\n",
       "3149   Percent of adults aged 18 years and older who ...        27.4   \n",
       "10470  Percent of adults aged 18 years and older who ...        27.7   \n",
       "7611   Percent of adults aged 18 years and older who ...        28.3   \n",
       "1069   Percent of adults aged 18 years and older who ...        28.9   \n",
       "2487   Percent of adults aged 18 years and older who ...        28.9   \n",
       "78790  Percent of adults aged 18 years and older who ...        29.6   \n",
       "14524  Percent of adults aged 18 years and older who ...        30.1   \n",
       "4405   Percent of adults aged 18 years and older who ...        30.9   \n",
       "49654  Percent of adults aged 18 years and older who ...        31.4   \n",
       "9355   Percent of adults aged 18 years and older who ...        31.9   \n",
       "84975  Percent of adults aged 18 years and older who ...        33.0   \n",
       "\n",
       "       Sample_Size StratificationCategory1 Stratification1  \n",
       "3149      470700.0                   Total           Total  \n",
       "10470     442230.0                   Total           Total  \n",
       "7611      457487.0                   Total           Total  \n",
       "1069      425875.0                   Total           Total  \n",
       "2487      398316.0                   Total           Total  \n",
       "78790     438479.0                   Total           Total  \n",
       "14524     408448.0                   Total           Total  \n",
       "4405      396022.0                   Total           Total  \n",
       "49654     374073.0                   Total           Total  \n",
       "9355      353841.0                   Total           Total  \n",
       "84975     385204.0                   Total           Total  "
      ]
     },
     "execution_count": 37,
     "metadata": {},
     "output_type": "execute_result"
    }
   ],
   "source": [
    "timeline_df = data_df.loc[:,['YearEnd','LocationAbbr','Question','Data_Value','Sample_Size','StratificationCategory1','Stratification1']]\n",
    "#obese_df = obese_df[obese_df['YearEnd'] == 2020]\n",
    "timeline_df = timeline_df[timeline_df['LocationAbbr'] == 'US']\n",
    "timeline_df = timeline_df[timeline_df['StratificationCategory1'] == 'Total']\n",
    "timeline_df = timeline_df[timeline_df['Question'] == 'Percent of adults aged 18 years and older who have obesity']\n",
    "timeline_df = timeline_df.sort_values(by='YearEnd', ascending=True)\n",
    "\n",
    "timeline_df"
   ]
  },
  {
   "cell_type": "code",
   "execution_count": 38,
   "id": "2cd57ee1",
   "metadata": {},
   "outputs": [
    {
     "data": {
      "image/png": "[encoded data removed]",
      "text/plain": [
       "<Figure size 640x480 with 1 Axes>"
      ]
     },
     "metadata": {},
     "output_type": "display_data"
    }
   ],
   "source": [
    "#timeline_df.plot.line(x = timeline_df['YearEnd'], y = timeline_df['Data_Value'])\n",
    "lines = timeline_df.plot.line(x='YearEnd', y='Data_Value')\n",
    "plt.title(\"Obesity Rate Percentages Over Time\")\n",
    "plt.xlabel(\"Year\")\n",
    "plt.ylabel(\"% of Obese\")\n",
    "\n",
    "plt.show()"
   ]
  },
  {
   "cell_type": "code",
   "execution_count": 74,
   "id": "008b2a68",
   "metadata": {},
   "outputs": [
    {
     "data": {
      "text/html": [
       "<div>\n",
       "<style scoped>\n",
       "    .dataframe tbody tr th:only-of-type {\n",
       "        vertical-align: middle;\n",
       "    }\n",
       "\n",
       "    .dataframe tbody tr th {\n",
       "        vertical-align: top;\n",
       "    }\n",
       "\n",
       "    .dataframe thead th {\n",
       "        text-align: right;\n",
       "    }\n",
       "</style>\n",
       "<table border=\"1\" class=\"dataframe\">\n",
       "  <thead>\n",
       "    <tr style=\"text-align: right;\">\n",
       "      <th></th>\n",
       "      <th>YearEnd</th>\n",
       "      <th>LocationAbbr</th>\n",
       "      <th>Question</th>\n",
       "      <th>Data_Value</th>\n",
       "      <th>Sample_Size</th>\n",
       "      <th>StratificationCategory1</th>\n",
       "      <th>Stratification1</th>\n",
       "    </tr>\n",
       "  </thead>\n",
       "  <tbody>\n",
       "    <tr>\n",
       "      <th>81766</th>\n",
       "      <td>2021</td>\n",
       "      <td>AK</td>\n",
       "      <td>Percent of adults who report consuming fruit l...</td>\n",
       "      <td>51.1</td>\n",
       "      <td>522.0</td>\n",
       "      <td>Race/Ethnicity</td>\n",
       "      <td>American Indian/Alaska Native</td>\n",
       "    </tr>\n",
       "    <tr>\n",
       "      <th>85823</th>\n",
       "      <td>2021</td>\n",
       "      <td>AK</td>\n",
       "      <td>Percent of adults who report consuming fruit l...</td>\n",
       "      <td>53.4</td>\n",
       "      <td>103.0</td>\n",
       "      <td>Race/Ethnicity</td>\n",
       "      <td>Asian</td>\n",
       "    </tr>\n",
       "    <tr>\n",
       "      <th>81601</th>\n",
       "      <td>2021</td>\n",
       "      <td>AK</td>\n",
       "      <td>Percent of adults who report consuming fruit l...</td>\n",
       "      <td>40.2</td>\n",
       "      <td>3459.0</td>\n",
       "      <td>Race/Ethnicity</td>\n",
       "      <td>Non-Hispanic White</td>\n",
       "    </tr>\n",
       "    <tr>\n",
       "      <th>86377</th>\n",
       "      <td>2021</td>\n",
       "      <td>AK</td>\n",
       "      <td>Percent of adults who report consuming fruit l...</td>\n",
       "      <td>21.9</td>\n",
       "      <td>72.0</td>\n",
       "      <td>Race/Ethnicity</td>\n",
       "      <td>Other</td>\n",
       "    </tr>\n",
       "    <tr>\n",
       "      <th>82255</th>\n",
       "      <td>2021</td>\n",
       "      <td>AK</td>\n",
       "      <td>Percent of adults who report consuming fruit l...</td>\n",
       "      <td>35.4</td>\n",
       "      <td>81.0</td>\n",
       "      <td>Race/Ethnicity</td>\n",
       "      <td>Non-Hispanic Black</td>\n",
       "    </tr>\n",
       "    <tr>\n",
       "      <th>...</th>\n",
       "      <td>...</td>\n",
       "      <td>...</td>\n",
       "      <td>...</td>\n",
       "      <td>...</td>\n",
       "      <td>...</td>\n",
       "      <td>...</td>\n",
       "      <td>...</td>\n",
       "    </tr>\n",
       "    <tr>\n",
       "      <th>86872</th>\n",
       "      <td>2021</td>\n",
       "      <td>WY</td>\n",
       "      <td>Percent of adults who report consuming fruit l...</td>\n",
       "      <td>NaN</td>\n",
       "      <td>NaN</td>\n",
       "      <td>Race/Ethnicity</td>\n",
       "      <td>Asian</td>\n",
       "    </tr>\n",
       "    <tr>\n",
       "      <th>84800</th>\n",
       "      <td>2021</td>\n",
       "      <td>WY</td>\n",
       "      <td>Percent of adults who report consuming fruit l...</td>\n",
       "      <td>49.6</td>\n",
       "      <td>176.0</td>\n",
       "      <td>Race/Ethnicity</td>\n",
       "      <td>Hispanic</td>\n",
       "    </tr>\n",
       "    <tr>\n",
       "      <th>86242</th>\n",
       "      <td>2021</td>\n",
       "      <td>WY</td>\n",
       "      <td>Percent of adults who report consuming fruit l...</td>\n",
       "      <td>53.9</td>\n",
       "      <td>57.0</td>\n",
       "      <td>Race/Ethnicity</td>\n",
       "      <td>2 or more races</td>\n",
       "    </tr>\n",
       "    <tr>\n",
       "      <th>84648</th>\n",
       "      <td>2021</td>\n",
       "      <td>WY</td>\n",
       "      <td>Percent of adults who report consuming fruit l...</td>\n",
       "      <td>NaN</td>\n",
       "      <td>NaN</td>\n",
       "      <td>Race/Ethnicity</td>\n",
       "      <td>American Indian/Alaska Native</td>\n",
       "    </tr>\n",
       "    <tr>\n",
       "      <th>81219</th>\n",
       "      <td>2021</td>\n",
       "      <td>WY</td>\n",
       "      <td>Percent of adults who report consuming fruit l...</td>\n",
       "      <td>NaN</td>\n",
       "      <td>NaN</td>\n",
       "      <td>Race/Ethnicity</td>\n",
       "      <td>Hawaiian/Pacific Islander</td>\n",
       "    </tr>\n",
       "  </tbody>\n",
       "</table>\n",
       "<p>432 rows × 7 columns</p>\n",
       "</div>"
      ],
      "text/plain": [
       "       YearEnd LocationAbbr  \\\n",
       "81766     2021           AK   \n",
       "85823     2021           AK   \n",
       "81601     2021           AK   \n",
       "86377     2021           AK   \n",
       "82255     2021           AK   \n",
       "...        ...          ...   \n",
       "86872     2021           WY   \n",
       "84800     2021           WY   \n",
       "86242     2021           WY   \n",
       "84648     2021           WY   \n",
       "81219     2021           WY   \n",
       "\n",
       "                                                Question  Data_Value  \\\n",
       "81766  Percent of adults who report consuming fruit l...        51.1   \n",
       "85823  Percent of adults who report consuming fruit l...        53.4   \n",
       "81601  Percent of adults who report consuming fruit l...        40.2   \n",
       "86377  Percent of adults who report consuming fruit l...        21.9   \n",
       "82255  Percent of adults who report consuming fruit l...        35.4   \n",
       "...                                                  ...         ...   \n",
       "86872  Percent of adults who report consuming fruit l...         NaN   \n",
       "84800  Percent of adults who report consuming fruit l...        49.6   \n",
       "86242  Percent of adults who report consuming fruit l...        53.9   \n",
       "84648  Percent of adults who report consuming fruit l...         NaN   \n",
       "81219  Percent of adults who report consuming fruit l...         NaN   \n",
       "\n",
       "       Sample_Size StratificationCategory1                Stratification1  \n",
       "81766        522.0          Race/Ethnicity  American Indian/Alaska Native  \n",
       "85823        103.0          Race/Ethnicity                          Asian  \n",
       "81601       3459.0          Race/Ethnicity             Non-Hispanic White  \n",
       "86377         72.0          Race/Ethnicity                          Other  \n",
       "82255         81.0          Race/Ethnicity             Non-Hispanic Black  \n",
       "...            ...                     ...                            ...  \n",
       "86872          NaN          Race/Ethnicity                          Asian  \n",
       "84800        176.0          Race/Ethnicity                       Hispanic  \n",
       "86242         57.0          Race/Ethnicity                2 or more races  \n",
       "84648          NaN          Race/Ethnicity  American Indian/Alaska Native  \n",
       "81219          NaN          Race/Ethnicity      Hawaiian/Pacific Islander  \n",
       "\n",
       "[432 rows x 7 columns]"
      ]
     },
     "execution_count": 74,
     "metadata": {},
     "output_type": "execute_result"
    }
   ],
   "source": [
    "fruit_veggie_df = data_df.loc[:,['YearEnd','LocationAbbr','Question','Data_Value','Sample_Size','StratificationCategory1','Stratification1']]\n",
    "fruit_veggie_df = fruit_veggie_df[fruit_veggie_df['YearEnd'] == 2021]\n",
    "fruit_veggie_df = fruit_veggie_df[fruit_veggie_df['LocationAbbr'] != 'US']\n",
    "fruit_veggie_df = fruit_veggie_df[fruit_veggie_df['StratificationCategory1'] == 'Race/Ethnicity']\n",
    "fruit_veggie_df = fruit_veggie_df.sort_values(by='LocationAbbr', ascending=True)\n",
    "\n",
    "fruit_df = fruit_veggie_df[fruit_veggie_df['Question'] =='Percent of adults who report consuming fruit less than one time daily']\n",
    "veggie_df = fruit_veggie_df[fruit_veggie_df['Question'] == 'Percent of adults who report consuming fruit less than one time daily']\n",
    "\n",
    "#Use fruit_df and veggie_df for the plot"
   ]
  },
  {
   "cell_type": "code",
   "execution_count": 81,
   "id": "af2ae9ed",
   "metadata": {},
   "outputs": [
    {
     "data": {
      "text/html": [
       "<div>\n",
       "<style scoped>\n",
       "    .dataframe tbody tr th:only-of-type {\n",
       "        vertical-align: middle;\n",
       "    }\n",
       "\n",
       "    .dataframe tbody tr th {\n",
       "        vertical-align: top;\n",
       "    }\n",
       "\n",
       "    .dataframe thead th {\n",
       "        text-align: right;\n",
       "    }\n",
       "</style>\n",
       "<table border=\"1\" class=\"dataframe\">\n",
       "  <thead>\n",
       "    <tr style=\"text-align: right;\">\n",
       "      <th></th>\n",
       "      <th>YearEnd</th>\n",
       "      <th>LocationAbbr</th>\n",
       "      <th>Question</th>\n",
       "      <th>Data_Value</th>\n",
       "      <th>Sample_Size</th>\n",
       "      <th>StratificationCategory1</th>\n",
       "      <th>Stratification1</th>\n",
       "    </tr>\n",
       "  </thead>\n",
       "  <tbody>\n",
       "    <tr>\n",
       "      <th>15904</th>\n",
       "      <td>2011</td>\n",
       "      <td>US</td>\n",
       "      <td>Percent of adults aged 18 years and older who ...</td>\n",
       "      <td>27.1</td>\n",
       "      <td>278712.0</td>\n",
       "      <td>Gender</td>\n",
       "      <td>Female</td>\n",
       "    </tr>\n",
       "    <tr>\n",
       "      <th>9368</th>\n",
       "      <td>2012</td>\n",
       "      <td>US</td>\n",
       "      <td>Percent of adults aged 18 years and older who ...</td>\n",
       "      <td>27.4</td>\n",
       "      <td>257190.0</td>\n",
       "      <td>Gender</td>\n",
       "      <td>Female</td>\n",
       "    </tr>\n",
       "    <tr>\n",
       "      <th>2841</th>\n",
       "      <td>2013</td>\n",
       "      <td>US</td>\n",
       "      <td>Percent of adults aged 18 years and older who ...</td>\n",
       "      <td>28.3</td>\n",
       "      <td>263276.0</td>\n",
       "      <td>Gender</td>\n",
       "      <td>Female</td>\n",
       "    </tr>\n",
       "    <tr>\n",
       "      <th>10015</th>\n",
       "      <td>2014</td>\n",
       "      <td>US</td>\n",
       "      <td>Percent of adults aged 18 years and older who ...</td>\n",
       "      <td>28.8</td>\n",
       "      <td>242169.0</td>\n",
       "      <td>Gender</td>\n",
       "      <td>Female</td>\n",
       "    </tr>\n",
       "    <tr>\n",
       "      <th>9548</th>\n",
       "      <td>2015</td>\n",
       "      <td>US</td>\n",
       "      <td>Percent of adults aged 18 years and older who ...</td>\n",
       "      <td>28.6</td>\n",
       "      <td>221909.0</td>\n",
       "      <td>Gender</td>\n",
       "      <td>Female</td>\n",
       "    </tr>\n",
       "    <tr>\n",
       "      <th>78558</th>\n",
       "      <td>2016</td>\n",
       "      <td>US</td>\n",
       "      <td>Percent of adults aged 18 years and older who ...</td>\n",
       "      <td>29.5</td>\n",
       "      <td>240000.0</td>\n",
       "      <td>Gender</td>\n",
       "      <td>Female</td>\n",
       "    </tr>\n",
       "    <tr>\n",
       "      <th>35405</th>\n",
       "      <td>2017</td>\n",
       "      <td>US</td>\n",
       "      <td>Percent of adults aged 18 years and older who ...</td>\n",
       "      <td>30.0</td>\n",
       "      <td>220608.0</td>\n",
       "      <td>Gender</td>\n",
       "      <td>Female</td>\n",
       "    </tr>\n",
       "    <tr>\n",
       "      <th>4234</th>\n",
       "      <td>2018</td>\n",
       "      <td>US</td>\n",
       "      <td>Percent of adults aged 18 years and older who ...</td>\n",
       "      <td>31.3</td>\n",
       "      <td>209072.0</td>\n",
       "      <td>Gender</td>\n",
       "      <td>Female</td>\n",
       "    </tr>\n",
       "    <tr>\n",
       "      <th>41420</th>\n",
       "      <td>2019</td>\n",
       "      <td>US</td>\n",
       "      <td>Percent of adults aged 18 years and older who ...</td>\n",
       "      <td>32.1</td>\n",
       "      <td>197450.0</td>\n",
       "      <td>Gender</td>\n",
       "      <td>Female</td>\n",
       "    </tr>\n",
       "    <tr>\n",
       "      <th>9187</th>\n",
       "      <td>2020</td>\n",
       "      <td>US</td>\n",
       "      <td>Percent of adults aged 18 years and older who ...</td>\n",
       "      <td>32.1</td>\n",
       "      <td>184399.0</td>\n",
       "      <td>Gender</td>\n",
       "      <td>Female</td>\n",
       "    </tr>\n",
       "    <tr>\n",
       "      <th>81880</th>\n",
       "      <td>2021</td>\n",
       "      <td>US</td>\n",
       "      <td>Percent of adults aged 18 years and older who ...</td>\n",
       "      <td>33.7</td>\n",
       "      <td>198053.0</td>\n",
       "      <td>Gender</td>\n",
       "      <td>Female</td>\n",
       "    </tr>\n",
       "  </tbody>\n",
       "</table>\n",
       "</div>"
      ],
      "text/plain": [
       "       YearEnd LocationAbbr  \\\n",
       "15904     2011           US   \n",
       "9368      2012           US   \n",
       "2841      2013           US   \n",
       "10015     2014           US   \n",
       "9548      2015           US   \n",
       "78558     2016           US   \n",
       "35405     2017           US   \n",
       "4234      2018           US   \n",
       "41420     2019           US   \n",
       "9187      2020           US   \n",
       "81880     2021           US   \n",
       "\n",
       "                                                Question  Data_Value  \\\n",
       "15904  Percent of adults aged 18 years and older who ...        27.1   \n",
       "9368   Percent of adults aged 18 years and older who ...        27.4   \n",
       "2841   Percent of adults aged 18 years and older who ...        28.3   \n",
       "10015  Percent of adults aged 18 years and older who ...        28.8   \n",
       "9548   Percent of adults aged 18 years and older who ...        28.6   \n",
       "78558  Percent of adults aged 18 years and older who ...        29.5   \n",
       "35405  Percent of adults aged 18 years and older who ...        30.0   \n",
       "4234   Percent of adults aged 18 years and older who ...        31.3   \n",
       "41420  Percent of adults aged 18 years and older who ...        32.1   \n",
       "9187   Percent of adults aged 18 years and older who ...        32.1   \n",
       "81880  Percent of adults aged 18 years and older who ...        33.7   \n",
       "\n",
       "       Sample_Size StratificationCategory1 Stratification1  \n",
       "15904     278712.0                  Gender          Female  \n",
       "9368      257190.0                  Gender          Female  \n",
       "2841      263276.0                  Gender          Female  \n",
       "10015     242169.0                  Gender          Female  \n",
       "9548      221909.0                  Gender          Female  \n",
       "78558     240000.0                  Gender          Female  \n",
       "35405     220608.0                  Gender          Female  \n",
       "4234      209072.0                  Gender          Female  \n",
       "41420     197450.0                  Gender          Female  \n",
       "9187      184399.0                  Gender          Female  \n",
       "81880     198053.0                  Gender          Female  "
      ]
     },
     "execution_count": 81,
     "metadata": {},
     "output_type": "execute_result"
    }
   ],
   "source": [
    "#Gender over time dataframe\n",
    "gender_df = data_df.loc[:,['YearEnd','LocationAbbr','Question','Data_Value','Sample_Size','StratificationCategory1','Stratification1']]\n",
    "#gender_df = gender_df[gender_df['YearEnd'] == 2020]\n",
    "gender_df = gender_df[gender_df['Question']=='Percent of adults aged 18 years and older who have obesity']\n",
    "gender_df = gender_df[gender_df['LocationAbbr'] == 'US']\n",
    "gender_df = gender_df[gender_df['StratificationCategory1'] == 'Gender']\n",
    "gender_df = gender_df.sort_values(by='YearEnd', ascending=True)\n",
    "\n",
    "male_gender_df = gender_df[gender_df['Stratification1'] == 'Male']\n",
    "female_gender_df = gender_df[gender_df['Stratification1'] == 'Female']\n"
   ]
  },
  {
   "cell_type": "code",
   "execution_count": 96,
   "id": "ca9b8287",
   "metadata": {},
   "outputs": [
    {
     "data": {
      "image/png": "[encoded data removed]",
      "text/plain": [
       "<Figure size 640x480 with 1 Axes>"
      ]
     },
     "metadata": {},
     "output_type": "display_data"
    }
   ],
   "source": [
    "#Gender over time\n",
    "plt.title(\"Obesity Rate Percentages Over Time\")\n",
    "plt.xlabel(\"Year\")\n",
    "plt.ylabel(\"% of Obese\")\n",
    "\n",
    "plt.plot(male_gender_df['YearEnd'],male_gender_df['Data_Value'])\n",
    "plt.plot(female_gender_df['YearEnd'],female_gender_df['Data_Value'])\n",
    "\n",
    "plt.legend(['Male', 'Female'], loc='upper left', title='Gender')\n",
    "plt.show()"
   ]
  },
  {
   "cell_type": "code",
   "execution_count": 15,
   "id": "f07824b5",
   "metadata": {},
   "outputs": [
    {
     "data": {
      "text/html": [
       "<div>\n",
       "<style scoped>\n",
       "    .dataframe tbody tr th:only-of-type {\n",
       "        vertical-align: middle;\n",
       "    }\n",
       "\n",
       "    .dataframe tbody tr th {\n",
       "        vertical-align: top;\n",
       "    }\n",
       "\n",
       "    .dataframe thead th {\n",
       "        text-align: right;\n",
       "    }\n",
       "</style>\n",
       "<table border=\"1\" class=\"dataframe\">\n",
       "  <thead>\n",
       "    <tr style=\"text-align: right;\">\n",
       "      <th></th>\n",
       "      <th>YearEnd</th>\n",
       "      <th>LocationAbbr</th>\n",
       "      <th>Question</th>\n",
       "      <th>Data_Value</th>\n",
       "      <th>Sample_Size</th>\n",
       "      <th>StratificationCategory1</th>\n",
       "      <th>Stratification1</th>\n",
       "    </tr>\n",
       "  </thead>\n",
       "  <tbody>\n",
       "    <tr>\n",
       "      <th>82683</th>\n",
       "      <td>2021</td>\n",
       "      <td>AK</td>\n",
       "      <td>Percent of adults who report consuming vegetab...</td>\n",
       "      <td>26.7</td>\n",
       "      <td>489.0</td>\n",
       "      <td>Race/Ethnicity</td>\n",
       "      <td>American Indian/Alaska Native</td>\n",
       "    </tr>\n",
       "    <tr>\n",
       "      <th>86597</th>\n",
       "      <td>2021</td>\n",
       "      <td>AK</td>\n",
       "      <td>Percent of adults who report consuming vegetab...</td>\n",
       "      <td>16.4</td>\n",
       "      <td>3362.0</td>\n",
       "      <td>Race/Ethnicity</td>\n",
       "      <td>Non-Hispanic White</td>\n",
       "    </tr>\n",
       "    <tr>\n",
       "      <th>88266</th>\n",
       "      <td>2021</td>\n",
       "      <td>AK</td>\n",
       "      <td>Percent of adults who report consuming vegetab...</td>\n",
       "      <td>NaN</td>\n",
       "      <td>NaN</td>\n",
       "      <td>Race/Ethnicity</td>\n",
       "      <td>Hawaiian/Pacific Islander</td>\n",
       "    </tr>\n",
       "    <tr>\n",
       "      <th>84207</th>\n",
       "      <td>2021</td>\n",
       "      <td>AK</td>\n",
       "      <td>Percent of adults who report consuming vegetab...</td>\n",
       "      <td>16.6</td>\n",
       "      <td>158.0</td>\n",
       "      <td>Race/Ethnicity</td>\n",
       "      <td>Hispanic</td>\n",
       "    </tr>\n",
       "    <tr>\n",
       "      <th>84327</th>\n",
       "      <td>2021</td>\n",
       "      <td>AK</td>\n",
       "      <td>Percent of adults who report consuming vegetab...</td>\n",
       "      <td>17.2</td>\n",
       "      <td>79.0</td>\n",
       "      <td>Race/Ethnicity</td>\n",
       "      <td>Non-Hispanic Black</td>\n",
       "    </tr>\n",
       "    <tr>\n",
       "      <th>...</th>\n",
       "      <td>...</td>\n",
       "      <td>...</td>\n",
       "      <td>...</td>\n",
       "      <td>...</td>\n",
       "      <td>...</td>\n",
       "      <td>...</td>\n",
       "      <td>...</td>\n",
       "    </tr>\n",
       "    <tr>\n",
       "      <th>83286</th>\n",
       "      <td>2021</td>\n",
       "      <td>WY</td>\n",
       "      <td>Percent of adults who report consuming vegetab...</td>\n",
       "      <td>18.1</td>\n",
       "      <td>3425.0</td>\n",
       "      <td>Race/Ethnicity</td>\n",
       "      <td>Non-Hispanic White</td>\n",
       "    </tr>\n",
       "    <tr>\n",
       "      <th>81438</th>\n",
       "      <td>2021</td>\n",
       "      <td>WY</td>\n",
       "      <td>Percent of adults who report consuming vegetab...</td>\n",
       "      <td>NaN</td>\n",
       "      <td>NaN</td>\n",
       "      <td>Race/Ethnicity</td>\n",
       "      <td>Asian</td>\n",
       "    </tr>\n",
       "    <tr>\n",
       "      <th>84970</th>\n",
       "      <td>2021</td>\n",
       "      <td>WY</td>\n",
       "      <td>Percent of adults who report consuming vegetab...</td>\n",
       "      <td>NaN</td>\n",
       "      <td>NaN</td>\n",
       "      <td>Race/Ethnicity</td>\n",
       "      <td>American Indian/Alaska Native</td>\n",
       "    </tr>\n",
       "    <tr>\n",
       "      <th>83700</th>\n",
       "      <td>2021</td>\n",
       "      <td>WY</td>\n",
       "      <td>Percent of adults who report consuming vegetab...</td>\n",
       "      <td>21.0</td>\n",
       "      <td>175.0</td>\n",
       "      <td>Race/Ethnicity</td>\n",
       "      <td>Hispanic</td>\n",
       "    </tr>\n",
       "    <tr>\n",
       "      <th>83928</th>\n",
       "      <td>2021</td>\n",
       "      <td>WY</td>\n",
       "      <td>Percent of adults who report consuming vegetab...</td>\n",
       "      <td>NaN</td>\n",
       "      <td>NaN</td>\n",
       "      <td>Race/Ethnicity</td>\n",
       "      <td>Non-Hispanic Black</td>\n",
       "    </tr>\n",
       "  </tbody>\n",
       "</table>\n",
       "<p>432 rows × 7 columns</p>\n",
       "</div>"
      ],
      "text/plain": [
       "       YearEnd LocationAbbr  \\\n",
       "82683     2021           AK   \n",
       "86597     2021           AK   \n",
       "88266     2021           AK   \n",
       "84207     2021           AK   \n",
       "84327     2021           AK   \n",
       "...        ...          ...   \n",
       "83286     2021           WY   \n",
       "81438     2021           WY   \n",
       "84970     2021           WY   \n",
       "83700     2021           WY   \n",
       "83928     2021           WY   \n",
       "\n",
       "                                                Question  Data_Value  \\\n",
       "82683  Percent of adults who report consuming vegetab...        26.7   \n",
       "86597  Percent of adults who report consuming vegetab...        16.4   \n",
       "88266  Percent of adults who report consuming vegetab...         NaN   \n",
       "84207  Percent of adults who report consuming vegetab...        16.6   \n",
       "84327  Percent of adults who report consuming vegetab...        17.2   \n",
       "...                                                  ...         ...   \n",
       "83286  Percent of adults who report consuming vegetab...        18.1   \n",
       "81438  Percent of adults who report consuming vegetab...         NaN   \n",
       "84970  Percent of adults who report consuming vegetab...         NaN   \n",
       "83700  Percent of adults who report consuming vegetab...        21.0   \n",
       "83928  Percent of adults who report consuming vegetab...         NaN   \n",
       "\n",
       "       Sample_Size StratificationCategory1                Stratification1  \n",
       "82683        489.0          Race/Ethnicity  American Indian/Alaska Native  \n",
       "86597       3362.0          Race/Ethnicity             Non-Hispanic White  \n",
       "88266          NaN          Race/Ethnicity      Hawaiian/Pacific Islander  \n",
       "84207        158.0          Race/Ethnicity                       Hispanic  \n",
       "84327         79.0          Race/Ethnicity             Non-Hispanic Black  \n",
       "...            ...                     ...                            ...  \n",
       "83286       3425.0          Race/Ethnicity             Non-Hispanic White  \n",
       "81438          NaN          Race/Ethnicity                          Asian  \n",
       "84970          NaN          Race/Ethnicity  American Indian/Alaska Native  \n",
       "83700        175.0          Race/Ethnicity                       Hispanic  \n",
       "83928          NaN          Race/Ethnicity             Non-Hispanic Black  \n",
       "\n",
       "[432 rows x 7 columns]"
      ]
     },
     "execution_count": 15,
     "metadata": {},
     "output_type": "execute_result"
    }
   ],
   "source": [
    "fruit_veggie_df = data_df.loc[:,['YearEnd','LocationAbbr','Question','Data_Value','Sample_Size','StratificationCategory1','Stratification1']]\n",
    "fruit_veggie_df = fruit_veggie_df[fruit_veggie_df['YearEnd'] == 2021]\n",
    "fruit_veggie_df = fruit_veggie_df[fruit_veggie_df['LocationAbbr'] != 'US']\n",
    "fruit_veggie_df = fruit_veggie_df[fruit_veggie_df['StratificationCategory1'] == 'Race/Ethnicity']\n",
    "fruit_veggie_df = fruit_veggie_df.sort_values(by='LocationAbbr', ascending=True)\n",
    "\n",
    "fruit_df = fruit_veggie_df[fruit_veggie_df['Question'] =='Percent of adults who report consuming fruit less than one time daily']\n",
    "veggie_df = fruit_veggie_df[fruit_veggie_df['Question'] == 'Percent of adults who report consuming vegetables less than one time daily']\n",
    "\n",
    "#Use fruit_df and veggie_df for the plot"
   ]
  },
  {
   "cell_type": "code",
   "execution_count": 91,
   "id": "acb9d14c",
   "metadata": {},
   "outputs": [
    {
     "data": {
      "text/html": [
       "<div>\n",
       "<style scoped>\n",
       "    .dataframe tbody tr th:only-of-type {\n",
       "        vertical-align: middle;\n",
       "    }\n",
       "\n",
       "    .dataframe tbody tr th {\n",
       "        vertical-align: top;\n",
       "    }\n",
       "\n",
       "    .dataframe thead th {\n",
       "        text-align: right;\n",
       "    }\n",
       "</style>\n",
       "<table border=\"1\" class=\"dataframe\">\n",
       "  <thead>\n",
       "    <tr style=\"text-align: right;\">\n",
       "      <th></th>\n",
       "      <th>YearEnd</th>\n",
       "      <th>LocationAbbr</th>\n",
       "      <th>Question_x</th>\n",
       "      <th>Data_Value_fruit</th>\n",
       "      <th>Sample_Size_x</th>\n",
       "      <th>StratificationCategory1_x</th>\n",
       "      <th>Stratification1</th>\n",
       "      <th>YearEnd_y</th>\n",
       "      <th>Question_y</th>\n",
       "      <th>Data_Value_veggie</th>\n",
       "      <th>Sample_Size_y</th>\n",
       "      <th>StratificationCategory1_y</th>\n",
       "    </tr>\n",
       "  </thead>\n",
       "  <tbody>\n",
       "    <tr>\n",
       "      <th>0</th>\n",
       "      <td>2021</td>\n",
       "      <td>AK</td>\n",
       "      <td>Percent of adults who report consuming fruit l...</td>\n",
       "      <td>51.1</td>\n",
       "      <td>522.0</td>\n",
       "      <td>Race/Ethnicity</td>\n",
       "      <td>American Indian/Alaska Native</td>\n",
       "      <td>2021</td>\n",
       "      <td>Percent of adults who report consuming vegetab...</td>\n",
       "      <td>26.7</td>\n",
       "      <td>489.0</td>\n",
       "      <td>Race/Ethnicity</td>\n",
       "    </tr>\n",
       "    <tr>\n",
       "      <th>1</th>\n",
       "      <td>2021</td>\n",
       "      <td>AK</td>\n",
       "      <td>Percent of adults who report consuming fruit l...</td>\n",
       "      <td>53.4</td>\n",
       "      <td>103.0</td>\n",
       "      <td>Race/Ethnicity</td>\n",
       "      <td>Asian</td>\n",
       "      <td>2021</td>\n",
       "      <td>Percent of adults who report consuming vegetab...</td>\n",
       "      <td>27.5</td>\n",
       "      <td>98.0</td>\n",
       "      <td>Race/Ethnicity</td>\n",
       "    </tr>\n",
       "    <tr>\n",
       "      <th>2</th>\n",
       "      <td>2021</td>\n",
       "      <td>AK</td>\n",
       "      <td>Percent of adults who report consuming fruit l...</td>\n",
       "      <td>40.2</td>\n",
       "      <td>3459.0</td>\n",
       "      <td>Race/Ethnicity</td>\n",
       "      <td>Non-Hispanic White</td>\n",
       "      <td>2021</td>\n",
       "      <td>Percent of adults who report consuming vegetab...</td>\n",
       "      <td>16.4</td>\n",
       "      <td>3362.0</td>\n",
       "      <td>Race/Ethnicity</td>\n",
       "    </tr>\n",
       "    <tr>\n",
       "      <th>3</th>\n",
       "      <td>2021</td>\n",
       "      <td>AK</td>\n",
       "      <td>Percent of adults who report consuming fruit l...</td>\n",
       "      <td>21.9</td>\n",
       "      <td>72.0</td>\n",
       "      <td>Race/Ethnicity</td>\n",
       "      <td>Other</td>\n",
       "      <td>2021</td>\n",
       "      <td>Percent of adults who report consuming vegetab...</td>\n",
       "      <td>18.9</td>\n",
       "      <td>69.0</td>\n",
       "      <td>Race/Ethnicity</td>\n",
       "    </tr>\n",
       "    <tr>\n",
       "      <th>4</th>\n",
       "      <td>2021</td>\n",
       "      <td>AK</td>\n",
       "      <td>Percent of adults who report consuming fruit l...</td>\n",
       "      <td>35.4</td>\n",
       "      <td>81.0</td>\n",
       "      <td>Race/Ethnicity</td>\n",
       "      <td>Non-Hispanic Black</td>\n",
       "      <td>2021</td>\n",
       "      <td>Percent of adults who report consuming vegetab...</td>\n",
       "      <td>17.2</td>\n",
       "      <td>79.0</td>\n",
       "      <td>Race/Ethnicity</td>\n",
       "    </tr>\n",
       "    <tr>\n",
       "      <th>...</th>\n",
       "      <td>...</td>\n",
       "      <td>...</td>\n",
       "      <td>...</td>\n",
       "      <td>...</td>\n",
       "      <td>...</td>\n",
       "      <td>...</td>\n",
       "      <td>...</td>\n",
       "      <td>...</td>\n",
       "      <td>...</td>\n",
       "      <td>...</td>\n",
       "      <td>...</td>\n",
       "      <td>...</td>\n",
       "    </tr>\n",
       "    <tr>\n",
       "      <th>421</th>\n",
       "      <td>2021</td>\n",
       "      <td>WV</td>\n",
       "      <td>Percent of adults who report consuming fruit l...</td>\n",
       "      <td>50.1</td>\n",
       "      <td>91.0</td>\n",
       "      <td>Race/Ethnicity</td>\n",
       "      <td>2 or more races</td>\n",
       "      <td>2021</td>\n",
       "      <td>Percent of adults who report consuming vegetab...</td>\n",
       "      <td>13.8</td>\n",
       "      <td>92.0</td>\n",
       "      <td>Race/Ethnicity</td>\n",
       "    </tr>\n",
       "    <tr>\n",
       "      <th>422</th>\n",
       "      <td>2021</td>\n",
       "      <td>WV</td>\n",
       "      <td>Percent of adults who report consuming fruit l...</td>\n",
       "      <td>46.1</td>\n",
       "      <td>5660.0</td>\n",
       "      <td>Race/Ethnicity</td>\n",
       "      <td>Non-Hispanic White</td>\n",
       "      <td>2021</td>\n",
       "      <td>Percent of adults who report consuming vegetab...</td>\n",
       "      <td>18.8</td>\n",
       "      <td>5576.0</td>\n",
       "      <td>Race/Ethnicity</td>\n",
       "    </tr>\n",
       "    <tr>\n",
       "      <th>424</th>\n",
       "      <td>2021</td>\n",
       "      <td>WY</td>\n",
       "      <td>Percent of adults who report consuming fruit l...</td>\n",
       "      <td>42.5</td>\n",
       "      <td>3481.0</td>\n",
       "      <td>Race/Ethnicity</td>\n",
       "      <td>Non-Hispanic White</td>\n",
       "      <td>2021</td>\n",
       "      <td>Percent of adults who report consuming vegetab...</td>\n",
       "      <td>18.1</td>\n",
       "      <td>3425.0</td>\n",
       "      <td>Race/Ethnicity</td>\n",
       "    </tr>\n",
       "    <tr>\n",
       "      <th>428</th>\n",
       "      <td>2021</td>\n",
       "      <td>WY</td>\n",
       "      <td>Percent of adults who report consuming fruit l...</td>\n",
       "      <td>49.6</td>\n",
       "      <td>176.0</td>\n",
       "      <td>Race/Ethnicity</td>\n",
       "      <td>Hispanic</td>\n",
       "      <td>2021</td>\n",
       "      <td>Percent of adults who report consuming vegetab...</td>\n",
       "      <td>21.0</td>\n",
       "      <td>175.0</td>\n",
       "      <td>Race/Ethnicity</td>\n",
       "    </tr>\n",
       "    <tr>\n",
       "      <th>429</th>\n",
       "      <td>2021</td>\n",
       "      <td>WY</td>\n",
       "      <td>Percent of adults who report consuming fruit l...</td>\n",
       "      <td>53.9</td>\n",
       "      <td>57.0</td>\n",
       "      <td>Race/Ethnicity</td>\n",
       "      <td>2 or more races</td>\n",
       "      <td>2021</td>\n",
       "      <td>Percent of adults who report consuming vegetab...</td>\n",
       "      <td>39.8</td>\n",
       "      <td>53.0</td>\n",
       "      <td>Race/Ethnicity</td>\n",
       "    </tr>\n",
       "  </tbody>\n",
       "</table>\n",
       "<p>285 rows × 12 columns</p>\n",
       "</div>"
      ],
      "text/plain": [
       "     YearEnd LocationAbbr                                         Question_x  \\\n",
       "0       2021           AK  Percent of adults who report consuming fruit l...   \n",
       "1       2021           AK  Percent of adults who report consuming fruit l...   \n",
       "2       2021           AK  Percent of adults who report consuming fruit l...   \n",
       "3       2021           AK  Percent of adults who report consuming fruit l...   \n",
       "4       2021           AK  Percent of adults who report consuming fruit l...   \n",
       "..       ...          ...                                                ...   \n",
       "421     2021           WV  Percent of adults who report consuming fruit l...   \n",
       "422     2021           WV  Percent of adults who report consuming fruit l...   \n",
       "424     2021           WY  Percent of adults who report consuming fruit l...   \n",
       "428     2021           WY  Percent of adults who report consuming fruit l...   \n",
       "429     2021           WY  Percent of adults who report consuming fruit l...   \n",
       "\n",
       "     Data_Value_fruit  Sample_Size_x StratificationCategory1_x  \\\n",
       "0                51.1          522.0            Race/Ethnicity   \n",
       "1                53.4          103.0            Race/Ethnicity   \n",
       "2                40.2         3459.0            Race/Ethnicity   \n",
       "3                21.9           72.0            Race/Ethnicity   \n",
       "4                35.4           81.0            Race/Ethnicity   \n",
       "..                ...            ...                       ...   \n",
       "421              50.1           91.0            Race/Ethnicity   \n",
       "422              46.1         5660.0            Race/Ethnicity   \n",
       "424              42.5         3481.0            Race/Ethnicity   \n",
       "428              49.6          176.0            Race/Ethnicity   \n",
       "429              53.9           57.0            Race/Ethnicity   \n",
       "\n",
       "                   Stratification1  YearEnd_y  \\\n",
       "0    American Indian/Alaska Native       2021   \n",
       "1                            Asian       2021   \n",
       "2               Non-Hispanic White       2021   \n",
       "3                            Other       2021   \n",
       "4               Non-Hispanic Black       2021   \n",
       "..                             ...        ...   \n",
       "421                2 or more races       2021   \n",
       "422             Non-Hispanic White       2021   \n",
       "424             Non-Hispanic White       2021   \n",
       "428                       Hispanic       2021   \n",
       "429                2 or more races       2021   \n",
       "\n",
       "                                            Question_y  Data_Value_veggie  \\\n",
       "0    Percent of adults who report consuming vegetab...               26.7   \n",
       "1    Percent of adults who report consuming vegetab...               27.5   \n",
       "2    Percent of adults who report consuming vegetab...               16.4   \n",
       "3    Percent of adults who report consuming vegetab...               18.9   \n",
       "4    Percent of adults who report consuming vegetab...               17.2   \n",
       "..                                                 ...                ...   \n",
       "421  Percent of adults who report consuming vegetab...               13.8   \n",
       "422  Percent of adults who report consuming vegetab...               18.8   \n",
       "424  Percent of adults who report consuming vegetab...               18.1   \n",
       "428  Percent of adults who report consuming vegetab...               21.0   \n",
       "429  Percent of adults who report consuming vegetab...               39.8   \n",
       "\n",
       "     Sample_Size_y StratificationCategory1_y  \n",
       "0            489.0            Race/Ethnicity  \n",
       "1             98.0            Race/Ethnicity  \n",
       "2           3362.0            Race/Ethnicity  \n",
       "3             69.0            Race/Ethnicity  \n",
       "4             79.0            Race/Ethnicity  \n",
       "..             ...                       ...  \n",
       "421           92.0            Race/Ethnicity  \n",
       "422         5576.0            Race/Ethnicity  \n",
       "424         3425.0            Race/Ethnicity  \n",
       "428          175.0            Race/Ethnicity  \n",
       "429           53.0            Race/Ethnicity  \n",
       "\n",
       "[285 rows x 12 columns]"
      ]
     },
     "execution_count": 91,
     "metadata": {},
     "output_type": "execute_result"
    }
   ],
   "source": [
    "fruit_merged_veggie = pd.merge(fruit_df, veggie_df, on=[\"LocationAbbr\", \"Stratification1\"])\n",
    "fruit_merged_veggie.rename(columns={'YearEnd_x': 'YearEnd', 'Data_Value_x': 'Data_Value_fruit','Data_Value_y': 'Data_Value_veggie'}, inplace=True)\n",
    "fruit_merged_veggie = fruit_merged_veggie[fruit_merged_veggie['Data_Value_fruit'].notna()]\n",
    "fruit_merged_veggie = fruit_merged_veggie[fruit_merged_veggie['Data_Value_veggie'].notna()]\n",
    "\n",
    "fruit_merged_veggie"
   ]
  },
  {
   "cell_type": "code",
   "execution_count": 110,
   "id": "536c1b07",
   "metadata": {},
   "outputs": [
    {
     "name": "stdout",
     "output_type": "stream",
     "text": [
      "y = 0.05x + 19.87\n",
      "The r-squared is: 0.001787456938530391\n"
     ]
    },
    {
     "data": {
      "image/png": "[encoded data removed]",
      "text/plain": [
       "<Figure size 640x480 with 1 Axes>"
      ]
     },
     "metadata": {},
     "output_type": "display_data"
    }
   ],
   "source": [
    "# Build dataframe for colored chart. Show color plot\n",
    "#linear regression\n",
    "x_values = fv_color_merged['Data_Value_fruit']\n",
    "y_values = fv_color_merged['Data_Value_veggie']\n",
    "(slope, intercept, rvalue, pvalue, stderr) = linregress(x_values, y_values)\n",
    "regress_values = x_values * slope + intercept\n",
    "line_eq = \"y = \" + str(round(slope,2)) + \"x + \" + str(round(intercept,2))\n",
    "plt.scatter(x_values,y_values)\n",
    "plt.plot(x_values,regress_values,\"r-\")\n",
    "plt.annotate(line_eq,(1,1),fontsize=15,color=\"red\")\n",
    "\n",
    "###################################################################\n",
    "list_of_ethnic = fruit_merged_veggie['Stratification1'].unique()\n",
    "color_df = pd.DataFrame({'Stratification1':list_of_ethnic,\n",
    "                         'Color':['red','blue','green','orange','yellow','purple','cyan','black']})  \n",
    "\n",
    "fv_color_merged = pd.merge(fruit_merged_veggie, color_df, on=[\"Stratification1\"])\n",
    "\n",
    "fv_color_merged.dropna()\n",
    "\n",
    "labels = list_of_ethnic\n",
    "\n",
    "plt.scatter(fv_color_merged['Data_Value_fruit'], fv_color_merged['Data_Value_veggie'], marker=\"o\", facecolors=fv_color_merged['Color'], edgecolors=\"black\", label=labels)\n",
    "plt.xlabel(\"Obesity % - Fruit less than one time daily\")\n",
    "plt.ylabel(\"Obesity % - Vegetables less than one time daily\")\n",
    "plt.title(\"Obesity - Fruits and Vegetables categorized by Ethnicity\")\n",
    "\n",
    "print(line_eq)\n",
    "print(f\"The r-squared is: {rvalue**2}\")\n",
    "plt.show()\n"
   ]
  },
  {
   "cell_type": "code",
   "execution_count": 106,
   "id": "6d627813",
   "metadata": {},
   "outputs": [],
   "source": [
    "# Add the linear regression equation and line to plot\n",
    "\n",
    "#plt.xlabel('Rooms in House')\n",
    "#plt.ylabel('Median House Prices ($100,000)')\n",
    "#plt.show()\n",
    "\n"
   ]
  },
  {
   "cell_type": "code",
   "execution_count": null,
   "id": "aad42b6a",
   "metadata": {},
   "outputs": [],
   "source": []
  }
 ],
 "metadata": {
  "kernelspec": {
   "display_name": "Python 3 (ipykernel)",
   "language": "python",
   "name": "python3"
  },
  "language_info": {
   "codemirror_mode": {
    "name": "ipython",
    "version": 3
   },
   "file_extension": ".py",
   "mimetype": "text/x-python",
   "name": "python",
   "nbconvert_exporter": "python",
   "pygments_lexer": "ipython3",
   "version": "3.11.5"
  }
 },
 "nbformat": 4,
 "nbformat_minor": 5
}
